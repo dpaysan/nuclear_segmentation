{
 "cells": [
  {
   "cell_type": "markdown",
   "metadata": {},
   "source": [
    "# 3D Surface detection\n",
    "\n",
    "An custom implementation of Baehnisch et. al (2009): \"Fast and Accurate 3D Edge Detection for Surface Reconstruction\".\n",
    "\n",
    "---"
   ]
  },
  {
   "cell_type": "markdown",
   "metadata": {},
   "source": [
    "## 0. Environmental setup"
   ]
  },
  {
   "cell_type": "code",
   "execution_count": 67,
   "metadata": {},
   "outputs": [],
   "source": [
    "import numpy as np\n",
    "import scipy.ndimage as ndi\n",
    "import matplotlib.pyplot as plt\n",
    "import tifffile\n",
    "import sys\n",
    "\n",
    "sys.path.append('..')\n",
    "\n",
    "from src.utils.io import get_file_list"
   ]
  },
  {
   "cell_type": "code",
   "execution_count": 68,
   "metadata": {},
   "outputs": [],
   "source": [
    "def show_plane(ax, plane, cmap=\"gray\", title=None):\n",
    "    ax.imshow(plane, cmap=cmap)\n",
    "    ax.axis(\"off\")\n",
    "\n",
    "    if title:\n",
    "        ax.set_title(title)\n",
    "\n",
    "        \n",
    "def explore_slices(data, cmap=\"gray\"):\n",
    "    from ipywidgets import interact\n",
    "    N = len(data)\n",
    "\n",
    "    @interact(plane=(0, N - 1))\n",
    "    def display_slice(plane=34):\n",
    "        fig, ax = plt.subplots(figsize=(20, 5))\n",
    "\n",
    "        show_plane(ax, data[plane], title=\"Plane {}\".format(plane), cmap=cmap)\n",
    "\n",
    "        plt.show()\n",
    "\n",
    "    return display_slice\n",
    "\n",
    "def explore_slices_2_samples(data, cmap=\"gray\"):\n",
    "    from ipywidgets import interact\n",
    "    N = len(data[0])\n",
    "\n",
    "    @interact(plane=(0, N - 1))\n",
    "    def display_slice(plane=34):\n",
    "        fig, ax = plt.subplots(figsize=(20, 5), nrows=1, ncols=2)\n",
    "\n",
    "        show_plane(ax[0], data[0][plane], title=\"Plane {}\".format(plane), cmap=cmap)\n",
    "        show_plane(ax[1], data[1][plane], title='Plane {}'.format(plane), cmap=cmap)\n",
    "\n",
    "        plt.show()\n",
    "\n",
    "    return display_slice\n"
   ]
  },
  {
   "cell_type": "markdown",
   "metadata": {},
   "source": [
    "---\n",
    "\n",
    "## 1. Read in data\n",
    "\n",
    "We will load a number of 3D images in order to test our following implementation of 3D surface detection. To this end, we will again use some 3D images of T-cell nuclei."
   ]
  },
  {
   "cell_type": "code",
   "execution_count": 69,
   "metadata": {},
   "outputs": [],
   "source": [
    "root_dir = '../data/tcell_project/filtered/selected_slices_ar_08_area25_50_16bit'\n",
    "file_list = get_file_list(root_dir)\n",
    "\n",
    "cell_ids = list(range(20))\n",
    "cells = []\n",
    "\n",
    "for i in range(len(cell_ids)):\n",
    "    cells.append(np.squeeze(tifffile.imread(file_list[cell_ids[i]])))"
   ]
  },
  {
   "cell_type": "markdown",
   "metadata": {},
   "source": [
    "Let us have a look at those samples. We see that the data is quite noisy and the contrasts are not adjusted neither. However, for the purpose of testing our implementation of a 3D surface detection algorithm as described by Baehnisch et.al (2009) those images should suffice."
   ]
  },
  {
   "cell_type": "code",
   "execution_count": 70,
   "metadata": {},
   "outputs": [
    {
     "data": {
      "application/vnd.jupyter.widget-view+json": {
       "model_id": "1c8fe139cb8945a2a134c09a91e5052a",
       "version_major": 2,
       "version_minor": 0
      },
      "text/plain": [
       "interactive(children=(IntSlider(value=20, description='plane', max=20), Output()), _dom_classes=('widget-inter…"
      ]
     },
     "metadata": {},
     "output_type": "display_data"
    },
    {
     "data": {
      "text/plain": [
       "<function __main__.explore_slices_2_samples.<locals>.display_slice(plane=34)>"
      ]
     },
     "execution_count": 70,
     "metadata": {},
     "output_type": "execute_result"
    }
   ],
   "source": [
    "explore_slices_2_samples(cells)"
   ]
  },
  {
   "cell_type": "markdown",
   "metadata": {},
   "source": [
    "---\n",
    "## 2. 3D Surface detection\n",
    "\n",
    "### 2a. Smoothing\n",
    "\n",
    "The first step is an initial smoothing of the image in order to get rid of the Noise in the image. To this end, we will apply 3D Gaussian smoothing."
   ]
  },
  {
   "cell_type": "markdown",
   "metadata": {},
   "source": [
    "Let us for now look at one cell and remove the first three and last three layers that seem to have a very low SNR."
   ]
  },
  {
   "cell_type": "code",
   "execution_count": 71,
   "metadata": {},
   "outputs": [],
   "source": [
    "cell = cells[0][2:-3]\n",
    "cell = cell/cell.max() * 255\n",
    "sigma = 1\n",
    "\n",
    "smoothed_cell = ndi.gaussian_filter(cell, sigma)"
   ]
  },
  {
   "cell_type": "markdown",
   "metadata": {},
   "source": [
    "Let us quickly inspect the result of these transformation to validate them."
   ]
  },
  {
   "cell_type": "code",
   "execution_count": 72,
   "metadata": {},
   "outputs": [
    {
     "data": {
      "application/vnd.jupyter.widget-view+json": {
       "model_id": "da6985d4ab1a4c27928759ad459ad4ef",
       "version_major": 2,
       "version_minor": 0
      },
      "text/plain": [
       "interactive(children=(IntSlider(value=15, description='plane', max=15), Output()), _dom_classes=('widget-inter…"
      ]
     },
     "metadata": {},
     "output_type": "display_data"
    },
    {
     "data": {
      "text/plain": [
       "<function __main__.explore_slices_2_samples.<locals>.display_slice(plane=34)>"
      ]
     },
     "execution_count": 72,
     "metadata": {},
     "output_type": "execute_result"
    }
   ],
   "source": [
    "explore_slices_2_samples([cell, smoothed_cell])"
   ]
  },
  {
   "cell_type": "markdown",
   "metadata": {},
   "source": [
    "### 2b. Gradient calculation\n",
    "\n",
    "We will approximate the gradients using the Sobel operator."
   ]
  },
  {
   "cell_type": "code",
   "execution_count": 73,
   "metadata": {},
   "outputs": [],
   "source": [
    "dx = ndi.sobel(smoothed_cell, 2) \n",
    "dy = ndi.sobel(smoothed_cell, 1)\n",
    "dz = ndi.sobel(smoothed_cell, 0)"
   ]
  },
  {
   "cell_type": "markdown",
   "metadata": {},
   "source": [
    "Let us now calculate the magnitude of the gradients."
   ]
  },
  {
   "cell_type": "code",
   "execution_count": 74,
   "metadata": {},
   "outputs": [],
   "source": [
    "gradient = np.sqrt(dx**2 + dy**2 + dz**2)"
   ]
  },
  {
   "cell_type": "markdown",
   "metadata": {},
   "source": [
    "Let us have a look at the gradients magnitude. We can already see different edges that are detected and that in 3D form consecutive surfaces."
   ]
  },
  {
   "cell_type": "code",
   "execution_count": 75,
   "metadata": {},
   "outputs": [
    {
     "data": {
      "application/vnd.jupyter.widget-view+json": {
       "model_id": "5b0d4c1f897f4bf982a20cab51c67654",
       "version_major": 2,
       "version_minor": 0
      },
      "text/plain": [
       "interactive(children=(IntSlider(value=15, description='plane', max=15), Output()), _dom_classes=('widget-inter…"
      ]
     },
     "metadata": {},
     "output_type": "display_data"
    },
    {
     "data": {
      "text/plain": [
       "<function __main__.explore_slices.<locals>.display_slice(plane=34)>"
      ]
     },
     "execution_count": 75,
     "metadata": {},
     "output_type": "execute_result"
    }
   ],
   "source": [
    "explore_slices(gradient)"
   ]
  },
  {
   "cell_type": "markdown",
   "metadata": {},
   "source": [
    "### 2c. Angle calculation\n",
    "\n",
    "However, we see that the edges are still not well separated and are rather thick. For that purpose we will apply non-maximum suppression as in the basic Canny edge detection algorithm. The first step thereby is calculating the angles for the gradients."
   ]
  },
  {
   "cell_type": "code",
   "execution_count": 76,
   "metadata": {},
   "outputs": [],
   "source": [
    "theta = np.arctan2(dy, dx)\n",
    "psi = np.arctan2(dz, dx)\n",
    "\n",
    "# Convert to degree\n",
    "theta = 180 + (180/np.pi)*theta\n",
    "psi = 180 + (180/np.pi)*psi"
   ]
  },
  {
   "cell_type": "code",
   "execution_count": 77,
   "metadata": {},
   "outputs": [],
   "source": [
    "xy_e = (theta < 22.5) + (theta >= 337.5) + (theta >= 112.5) * (theta < 202.5)\n",
    "xy_ne = (theta >= 22.5) * (theta < 67.5) + (theta >= 202.5) * (theta < 247.5)\n",
    "xy_n = (theta >= 67.5) * (theta < 112.5) + (theta >= 247.5) * (theta < 292.5)\n",
    "xy_se = ~(xy_e + xy_ne + xy_n)"
   ]
  },
  {
   "cell_type": "code",
   "execution_count": 78,
   "metadata": {},
   "outputs": [],
   "source": [
    "xz_e = (psi < 22.5) + (psi >= 337.5) + (psi >= 112.5) * (psi < 202.5)\n",
    "xz_ne = (psi >= 22.5) * (psi < 67.5) + (psi >= 202.5) * (psi < 247.5)\n",
    "xz_n = (psi >= 67.5) * (psi < 112.5) + (psi >= 247.5) * (psi < 292.5)\n",
    "xz_se = ~(xz_e + xz_ne + xz_n)"
   ]
  },
  {
   "cell_type": "code",
   "execution_count": 79,
   "metadata": {},
   "outputs": [],
   "source": [
    "# Encode the angles: \n",
    "# z,y,x\n",
    "\n",
    "\n",
    "angles = np.zeros_like(gradient)\n",
    "angles[xy_e * xz_e] = 0\n",
    "angles[xy_e * xz_ne] = 1\n",
    "angles[xy_e * xz_n] = 2\n",
    "angles[xy_e * xz_se] = 3\n",
    "angles[xy_ne * xz_e] = 4\n",
    "angles[xy_ne * xz_ne] = 5\n",
    "angles[xy_ne * xz_n] = 6\n",
    "angles[xy_ne * xz_se] = 7\n",
    "angles[xy_n * xz_e] = 8\n",
    "angles[xy_n * xz_ne] = 9\n",
    "angles[xy_n * xz_n] = 10\n",
    "angles[xy_n * xz_se] = 11\n",
    "angles[xy_se * xz_e] = 12\n",
    "angles[xy_se * xz_ne] = 13\n",
    "angles[xy_se * xz_n] = 14\n",
    "angles[xy_se * xz_se] = 15"
   ]
  },
  {
   "cell_type": "code",
   "execution_count": 80,
   "metadata": {},
   "outputs": [
    {
     "data": {
      "application/vnd.jupyter.widget-view+json": {
       "model_id": "9d332544489b471b86f9af087495590b",
       "version_major": 2,
       "version_minor": 0
      },
      "text/plain": [
       "interactive(children=(IntSlider(value=15, description='plane', max=15), Output()), _dom_classes=('widget-inter…"
      ]
     },
     "metadata": {},
     "output_type": "display_data"
    },
    {
     "data": {
      "text/plain": [
       "<function __main__.explore_slices.<locals>.display_slice(plane=34)>"
      ]
     },
     "execution_count": 80,
     "metadata": {},
     "output_type": "execute_result"
    }
   ],
   "source": [
    "explore_slices(angles)"
   ]
  },
  {
   "cell_type": "markdown",
   "metadata": {},
   "source": [
    "### 2d. Non-maximum suppression"
   ]
  },
  {
   "cell_type": "code",
   "execution_count": 81,
   "metadata": {},
   "outputs": [],
   "source": [
    "def non_maximum_suppression_3d(gradient, angles, thresh = 300):\n",
    "# E-E: 0 --> (0,0,1) and (0,0,-1)\n",
    "# E-NE: 1 --> (-1,0,-1) and (1,0,1)\n",
    "# E-N: 2 --> (-1,0,0) and (1,0,0)\n",
    "# E-SE: 3 --> (-1,0,1) and (1,0,-1)\n",
    "# NE-E: 4 --> (0,-1,1) and (0,1,-1)\n",
    "# NE-NE: 5 --> (1,-1,1) and (-1,1,-1)\n",
    "# NE-N: 6 --> (-1,0,0) and (1,0,0)\n",
    "# NE-SE: 7 --> (-1,-1,1) and (1,1,-1)\n",
    "# N-E: 8 --> (0,-1,0) and (0,1,0)\n",
    "# N-NE: 9 --> (1,-1,0) and (-1,1,0)\n",
    "# N-N: 10 --> (-1,0,0) and (1,0,0)\n",
    "# N-SE: 11 --> (-1,-1,0) and (1,1,0)\n",
    "# SE-E: 12 --> (0,1,1) and (0,-1,-1)\n",
    "# SE-NE: 13 --> (1,1,1) and (-1,-1,-1)\n",
    "# SE-N: 14 --> (-1,0,0) and (1,0,0)\n",
    "# SE-SE: 15 --> (-1,1,1) and (1,-1,-1)\n",
    "    result = np.zeros_like(gradient).astype(bool)\n",
    "    depth, height, width = gradient.shape\n",
    "    # i= z, j=y, k=x\n",
    "    for z in range(depth):\n",
    "        for y in range(height):\n",
    "            for x in range(width):\n",
    "                if gradient[z,y,x] < thresh:\n",
    "                    continue\n",
    "                elif z in [0,depth-1] or y in [0,height-1] or x in [0,width-1]:\n",
    "                    continue\n",
    "                elif angles[z,y,x] == 0:\n",
    "                    ## E-E direction\n",
    "                    n1 = z, y, x-1\n",
    "                    n2 = z, y, x+1\n",
    "                    result[z,y,x] = gradient[z,y,x] >= max(gradient[n1], gradient[n2])\n",
    "                elif angles[z,y, x] == 1:\n",
    "                    ## E-NE direction\n",
    "                    n1 = z+1, y, x+1\n",
    "                    n2 = z-1, y, x-1\n",
    "                    result[z,y,x] = gradient[z,y,x] >= max(gradient[n1], gradient[n2])\n",
    "                elif angles[z,y,x] == 2:\n",
    "                    ## E-N direction\n",
    "                    n1 = z-1, y, x\n",
    "                    n2 = z+1, y, x\n",
    "                    result[z,y,x] = gradient[z,y,x] >= max(gradient[n1], gradient[n2])\n",
    "                elif angles[z,y,x] == 3:\n",
    "                    ## E-SE direction\n",
    "                    n1 = z-1, y, x+1\n",
    "                    n2 = z+1, y, x-1\n",
    "                    result[z,y,x] = gradient[z,y,x] >= max(gradient[n1], gradient[n2])\n",
    "                elif angles[z,y,x] == 4:\n",
    "                    ## NE-E direction\n",
    "                    n1 = z, y-1, x+1\n",
    "                    n2 = z, y+1, x-1\n",
    "                    result[z,y,x] = gradient[z,y,x] >= max(gradient[n1], gradient[n2])\n",
    "                elif angles[z,y,x] == 5:\n",
    "                    ## NE-NE direction\n",
    "                    n1 = z+1, y-1, x+1\n",
    "                    n2 = z-1, y+1, x-1\n",
    "                    result[z,y,x] = gradient[z,y,x] >= max(gradient[n1], gradient[n2])\n",
    "                elif angles[z,y,x] == 6:\n",
    "                    ## NE-N direction\n",
    "                    n1 = z-1, y, x\n",
    "                    n2 = z+1, y, x\n",
    "                    result[z,y,x] = gradient[z,y,x] >= max(gradient[n1], gradient[n2])\n",
    "                elif angles[z,y,x] == 7:\n",
    "                    ## NE-SE direction\n",
    "                    n1 = z-1, y-1, x+1\n",
    "                    n2 = z+1, y+1, x-1\n",
    "                    result[z,y,x] = gradient[z,y,x] >= max(gradient[n1], gradient[n2])\n",
    "                elif angles[z,y,x] == 8:\n",
    "                    ## N-E direction\n",
    "                    n1 = z, y-1, x\n",
    "                    n2 = z, y+1, x\n",
    "                    result[z,y,x] = gradient[z,y,x] >= max(gradient[n1], gradient[n2])\n",
    "                elif angles[z,y,x] == 9:\n",
    "                    ## N-NE direction\n",
    "                    n1 = z+1, y-1, x\n",
    "                    n2 = z-1, y+1, x\n",
    "                    result[z,y,x] = gradient[z,y,x] >= max(gradient[n1], gradient[n2])\n",
    "                elif angles[z,y,x] == 10:\n",
    "                    ## N-N direction\n",
    "                    n1 = z-1, y, x\n",
    "                    n2 = z+1, y, x\n",
    "                    result[z,y,x] = gradient[z,y,x] >= max(gradient[n1], gradient[n2])\n",
    "                elif angles[z,y,x] == 11:\n",
    "                    ## N-SE direction\n",
    "                    n1 = z-1, y-1, x\n",
    "                    n2 = z+1, y+1, x\n",
    "                    result[z,y,x] = gradient[z,y,x] >= max(gradient[n1], gradient[n2])\n",
    "                elif angles[z,y,x] == 12:\n",
    "                    ## SE-E direction\n",
    "                    n1 = z, y-1, x-1\n",
    "                    n2 = z, y+1, x+1\n",
    "                    result[z,y,x] = gradient[z,y,x] >= max(gradient[n1], gradient[n2])\n",
    "                elif angles[z,y,x] == 13:\n",
    "                    ## SE-NE direction\n",
    "                    n1 = z-1, y-1, x-1\n",
    "                    n2 = z+1, y+1, x+1\n",
    "                    result[z,y,x] = gradient[z,y,x] >= max(gradient[n1], gradient[n2])\n",
    "                elif angles[z,y,x] == 14:\n",
    "                    ## SE-N direction\n",
    "                    n1 = z-1, y, x\n",
    "                    n2 = z+1, y, x\n",
    "                    result[z,y,x] = gradient[z,y,x] >= max(gradient[n1], gradient[n2])\n",
    "                else:\n",
    "                    ## SE-SE direction\n",
    "                    n1 = z-1, y+1, x+1\n",
    "                    n2 = z+1, y-1, x-1\n",
    "                    result[z,y,x] = gradient[z,y,x] >= max(gradient[n1], gradient[n2])\n",
    "    return result"
   ]
  },
  {
   "cell_type": "code",
   "execution_count": 82,
   "metadata": {},
   "outputs": [],
   "source": [
    "###### Non-maximum suppression ########\n",
    "def non_maximum_suppression_2d(gradient, angles, thresh):\n",
    "    w, h = gradient.shape\n",
    "    mask = np.zeros_like(gradient).astype(bool)\n",
    "    for i in range(w):\n",
    "        for j in range(h):\n",
    "            if gradient[i,j] <= thresh:\n",
    "                mask[i,j] = False\n",
    "            elif i in [0, w-1] or j in [0, h-1]:\n",
    "                mask[i,j] = False\n",
    "            elif angles[i, j] == 0:\n",
    "                #east direction\n",
    "                n1 = i, j-1\n",
    "                n2 = i, j+1\n",
    "                mask[i,j] = gradient[i,j] >= max(gradient[n1], gradient[n2])\n",
    "            elif angles[i, j] == 1:\n",
    "                #north east direction\n",
    "                n1 = i-1, j+1\n",
    "                n2 = i+1, j-1\n",
    "                mask[i,j] = gradient[i,j] >= max(gradient[n1], gradient[n2])\n",
    "            elif angles[i, j] == 2:\n",
    "                # north direction\n",
    "                n1 = i-1, j\n",
    "                n2 = i+1, j\n",
    "                mask[i,j] = gradient[i,j] >= max(gradient[n1], gradient[n2])\n",
    "            else:\n",
    "                # south east direction\n",
    "                n1 = i-1, j-1\n",
    "                n2 = i+1, j+1\n",
    "                mask[i,j] = gradient[i,j] >= max(gradient[n1], gradient[n2])\n",
    "    return mask"
   ]
  },
  {
   "cell_type": "code",
   "execution_count": 83,
   "metadata": {},
   "outputs": [],
   "source": [
    "nms = non_maximum_suppression_3d(gradient, angles, 330)"
   ]
  },
  {
   "cell_type": "code",
   "execution_count": 84,
   "metadata": {},
   "outputs": [],
   "source": [
    "angles_2d = np.zeros_like(gradient)\n",
    "angles_2d[xy_e] = 0\n",
    "angles_2d[xy_ne] = 1\n",
    "angles_2d[xy_n] = 2\n",
    "angles_2d[xy_se] = 3"
   ]
  },
  {
   "cell_type": "code",
   "execution_count": 87,
   "metadata": {},
   "outputs": [
    {
     "data": {
      "application/vnd.jupyter.widget-view+json": {
       "model_id": "31b6a6e08cb64d7c95558db359f7db4d",
       "version_major": 2,
       "version_minor": 0
      },
      "text/plain": [
       "interactive(children=(IntSlider(value=15, description='plane', max=15), Output()), _dom_classes=('widget-inter…"
      ]
     },
     "metadata": {},
     "output_type": "display_data"
    },
    {
     "data": {
      "text/plain": [
       "<function __main__.explore_slices_2_samples.<locals>.display_slice(plane=34)>"
      ]
     },
     "execution_count": 87,
     "metadata": {},
     "output_type": "execute_result"
    }
   ],
   "source": [
    "explore_slices_2_samples([nms, gradient])"
   ]
  },
  {
   "cell_type": "code",
   "execution_count": null,
   "metadata": {},
   "outputs": [],
   "source": []
  },
  {
   "cell_type": "code",
   "execution_count": 86,
   "metadata": {},
   "outputs": [
    {
     "data": {
      "application/vnd.jupyter.widget-view+json": {
       "model_id": "fa9f28c00912492ab17ad42233577b82",
       "version_major": 2,
       "version_minor": 0
      },
      "text/plain": [
       "interactive(children=(IntSlider(value=15, description='plane', max=15), Output()), _dom_classes=('widget-inter…"
      ]
     },
     "metadata": {},
     "output_type": "display_data"
    },
    {
     "data": {
      "text/plain": [
       "<function __main__.explore_slices.<locals>.display_slice(plane=34)>"
      ]
     },
     "execution_count": 86,
     "metadata": {},
     "output_type": "execute_result"
    }
   ],
   "source": [
    "from skimage.filters import threshold_otsu\n",
    "explore_slices(gradient >threshold_otsu(gradient))"
   ]
  }
 ],
 "metadata": {
  "kernelspec": {
   "display_name": "Python 3",
   "language": "python",
   "name": "python3"
  },
  "language_info": {
   "codemirror_mode": {
    "name": "ipython",
    "version": 3
   },
   "file_extension": ".py",
   "mimetype": "text/x-python",
   "name": "python",
   "nbconvert_exporter": "python",
   "pygments_lexer": "ipython3",
   "version": "3.8.5"
  }
 },
 "nbformat": 4,
 "nbformat_minor": 4
}
