{
 "cells": [
  {
   "cell_type": "markdown",
   "metadata": {},
   "source": [
    "# Structure detection\n",
    "\n",
    "\n",
    "This notebook serves as a sandbox for structure detection of 3D microscopy images.\n",
    "\n",
    "---"
   ]
  },
  {
   "cell_type": "markdown",
   "metadata": {},
   "source": [
    "## 0. Environmental setup"
   ]
  },
  {
   "cell_type": "code",
   "execution_count": 52,
   "metadata": {},
   "outputs": [],
   "source": [
    "import numpy as np\n",
    "import cv2\n",
    "import tifffile\n",
    "import matplotlib.pyplot as plt\n",
    "import sys\n",
    "import random\n",
    "from skimage import exposure, filters, feature, restoration, measure, morphology, color, segmentation\n",
    "from scipy import ndimage as ndi\n",
    "from numpy import ma\n",
    "import copy\n",
    "from typing import List\n",
    "import os\n",
    "import pandas as pd\n",
    "\n",
    "sys.path.append('..')\n",
    "\n",
    "from src.utils.io import get_file_list\n",
    "\n",
    "np.random.seed(1234)\n",
    "random.seed(1234)"
   ]
  },
  {
   "cell_type": "code",
   "execution_count": 8,
   "metadata": {},
   "outputs": [],
   "source": [
    "def show_plane(ax, plane, cmap=\"gray\", title=None):\n",
    "    ax.imshow(plane, cmap=cmap)\n",
    "    ax.axis(\"off\")\n",
    "\n",
    "    if title:\n",
    "        ax.set_title(title)\n",
    "\n",
    "        \n",
    "def explore_slices(data, cmap=\"gray\"):\n",
    "    from ipywidgets import interact\n",
    "    N = len(data)\n",
    "\n",
    "    @interact(plane=(0, N - 1))\n",
    "    def display_slice(plane=34):\n",
    "        fig, ax = plt.subplots(figsize=(20, 5))\n",
    "\n",
    "        show_plane(ax, data[plane], title=\"Plane {}\".format(plane), cmap=cmap)\n",
    "\n",
    "        plt.show()\n",
    "\n",
    "    return display_slice\n",
    "\n",
    "def explore_slices_2_samples(data, cmap=\"gray\"):\n",
    "    from ipywidgets import interact\n",
    "    N = len(data[0])\n",
    "\n",
    "    @interact(plane=(0, N - 1))\n",
    "    def display_slice(plane=34):\n",
    "        fig, ax = plt.subplots(figsize=(20, 5), nrows=1, ncols=2)\n",
    "\n",
    "        show_plane(ax[0], data[0][plane], title=\"Plane {}\".format(plane), cmap=cmap)\n",
    "        show_plane(ax[1], data[1][plane], title='Plane {}'.format(plane), cmap=cmap)\n",
    "        plt.show()\n",
    "\n",
    "    return display_slice\n"
   ]
  },
  {
   "cell_type": "code",
   "execution_count": 9,
   "metadata": {},
   "outputs": [],
   "source": [
    "def get_nuclei_masks(cells, smoothing=1, fill_holes_layer_wise=True):\n",
    "    cell_masks = []\n",
    "    for i in range(len(cells)):\n",
    "        cell_mask = segmentation.morphological_chan_vese(filters.median(cells[i]), smoothing=smoothing, iterations=300, \n",
    "                                                         init_level_set='circle')\n",
    "        cell_mask = ndi.binary_fill_holes(cell_mask)\n",
    "        if fill_holes_layer_wise:\n",
    "            for j in range(len(cell_mask)):\n",
    "                cell_mask[j] = ndi.binary_fill_holes(cell_mask[j])\n",
    "        cell_masks.append(np.array(cell_mask))\n",
    "    return cell_masks"
   ]
  },
  {
   "cell_type": "code",
   "execution_count": 10,
   "metadata": {},
   "outputs": [],
   "source": [
    "def remove_noise_layers(cells, cell_masks):\n",
    "    masked_cells = []\n",
    "    for i in range(len(cells)):\n",
    "        masked_cell = copy.deepcopy(cells[i])\n",
    "        for j in range(len(cell_masks[i])):\n",
    "            if not cell_masks[i][j].astype(bool).any():\n",
    "                masked_cell[j] = np.zeros_like(masked_cell[j])\n",
    "        masked_cells.append(masked_cell)\n",
    "    return masked_cells"
   ]
  },
  {
   "cell_type": "code",
   "execution_count": 11,
   "metadata": {},
   "outputs": [],
   "source": [
    "def denoise_cells_bilateral(cells, sigma=15, median_filter_size=0):\n",
    "    denoised_cells = []\n",
    "    for i in range(len(cells)):\n",
    "        denoised_cell = []\n",
    "        for j in range(len(cells[i])):\n",
    "            denoised_cell.append(restoration.denoise_bilateral(cells[i][j], sigma_spatial=sigma, \n",
    "                                                               multichannel=False))\n",
    "        if median_filter_size>0:\n",
    "            denoised_cell = ndi.median_filter(np.array(denoised_cell), median_filter_size)\n",
    "        denoised_cells.append(np.array(denoised_cell))\n",
    "    return denoised_cells"
   ]
  },
  {
   "cell_type": "code",
   "execution_count": 12,
   "metadata": {},
   "outputs": [],
   "source": [
    "def filter_noise_layers(cells, sigma=2):\n",
    "    filtered_cells = []\n",
    "    for i in range(len(cells)):\n",
    "        cell= []\n",
    "        for j in range(len(cells[i])):\n",
    "            edges = feature.canny(cells[i][j], sigma)\n",
    "            if np.any(edges):\n",
    "                cell.append(cells[i][j])\n",
    "            else:\n",
    "                cell.append(np.zeros(cells[i][j].shape))\n",
    "        filtered_cells.append(np.array(cell))\n",
    "    return filtered_cells"
   ]
  },
  {
   "cell_type": "code",
   "execution_count": 13,
   "metadata": {},
   "outputs": [],
   "source": [
    "def rescale_intensities(cell_imgs, qs=None, out_range=None):\n",
    "    if qs is None:\n",
    "        qs=[0.5, 99.5]\n",
    "    if out_range is None:\n",
    "        out_range = np.float32\n",
    "    rescaled_cell_imgs = []\n",
    "    \n",
    "    for i in range(len(cell_imgs)):\n",
    "        vmin, vmax = np.percentile(cell_imgs[i], q=qs)\n",
    "        rescaled_cell_imgs.append(exposure.rescale_intensity(cell_imgs[i], in_range=(vmin, vmax), \n",
    "                                                             out_range=out_range))\n",
    "\n",
    "    return rescaled_cell_imgs"
   ]
  },
  {
   "cell_type": "code",
   "execution_count": 14,
   "metadata": {},
   "outputs": [],
   "source": [
    "def color_3d_cells(cell_masks, cells):\n",
    "    colored_cells = []\n",
    "    for i in range(len(cell_masks)):\n",
    "        cell_mask = cell_masks[i]\n",
    "        cell_mask = cell_mask.astype(int)\n",
    "        cell = cells[i]\n",
    "        cell = np.uint8(cell * 255/cell.max())\n",
    "        colored_cell = []\n",
    "        for j in range(len(cell_mask)):\n",
    "            colored_cell.append(color.label2rgb(cell_mask[j], cell[j], bg_label=0))\n",
    "        colored_cells.append(np.array(colored_cell))\n",
    "    return colored_cells"
   ]
  },
  {
   "cell_type": "code",
   "execution_count": 15,
   "metadata": {},
   "outputs": [],
   "source": [
    "def get_hc_ec_structure_maps_by_thresholding(cells, cell_masks, k=0.6):\n",
    "    structure_dicts = []\n",
    "    for i in range(len(cells)):\n",
    "        cell_img = copy.deepcopy(cells[i])\n",
    "        #cell_img = filters.median(cell_img)\n",
    "        masked_cell = ma.masked_array(cell_img, ~cell_masks[i])\n",
    "        threshold = masked_cell.min() + k * (masked_cell.max() - masked_cell.min())\n",
    "        hc_mask = masked_cell > threshold\n",
    "        ec_mask = masked_cell <= threshold\n",
    "        structure_dict = {'cell_img':cells[i], 'masked_cell':masked_cell, 'hc_mask' : hc_mask, \n",
    "                          'ec_mask' : ec_mask}\n",
    "        structure_dicts.append(structure_dict)\n",
    "    return structure_dicts"
   ]
  },
  {
   "cell_type": "code",
   "execution_count": 16,
   "metadata": {},
   "outputs": [],
   "source": [
    "def get_labeled_cells_for_hc_ec_structures(structure_dicts):\n",
    "    labeled_cells = []\n",
    "    for i in range(len(structure_dicts)):\n",
    "        labeled_cell = np.zeros_like(structure_dicts[i]['cell_img'])\n",
    "        cell_mask = ~ma.getmask(structure_dicts[i]['masked_cell'])\n",
    "        hc_mask = np.array(structure_dicts[i]['hc_mask'])\n",
    "        labeled_cell[cell_mask]= 1\n",
    "        labeled_cell[hc_mask] = 2\n",
    "        labeled_cells.append(np.uint16(labeled_cell))\n",
    "    return labeled_cells"
   ]
  },
  {
   "cell_type": "code",
   "execution_count": 17,
   "metadata": {},
   "outputs": [],
   "source": [
    "def plot_3d_images_as_map(\n",
    "    images: List[np.ndarray],\n",
    "    n_images_per_slide: int = 20,\n",
    "    max_depth: int = 23,\n",
    "):\n",
    "    depth = max_depth\n",
    "    figures = []\n",
    "    fig = None\n",
    "    for i in range(len(images)):\n",
    "        idx = i % n_images_per_slide\n",
    "        if idx == 0:\n",
    "            fig, ax = plt.subplots(\n",
    "                nrows=n_images_per_slide,\n",
    "                ncols=depth,\n",
    "                figsize=[12.8, 10.0],\n",
    "                gridspec_kw={\"wspace\": 0.0, \"hspace\": 0.0},\n",
    "            )\n",
    "\n",
    "        for j in range(depth):\n",
    "            if j < np.squeeze(images[i]).shape[0]:\n",
    "                img = np.squeeze(images[i])\n",
    "                #if len(img.shape) == 4:\n",
    "                #    img = img[j,0,:,:]\n",
    "                #else:\n",
    "                #    img = img[j,:,:]\n",
    "                img = img[j]\n",
    "                img = cv2.resize(img, dsize=(64, 64))\n",
    "                if img.max() > 0 :\n",
    "                    img = img / img.max()\n",
    "            else:\n",
    "                img = np.zeros([64, 64])\n",
    "            ax[idx, j].imshow(\n",
    "                img, interpolation=\"nearest\", cmap=\"magma\",\n",
    "            )\n",
    "            ax[idx, j].axis(\"off\")\n",
    "            #ax[idx, j].set_aspect(\"auto\")\n",
    "        if idx == n_images_per_slide - 1:\n",
    "            figures.append(fig)\n",
    "            fig.subplots_adjust(hspace=0.0, wspace=0.0)\n",
    "            plt.subplots_adjust(hspace=0.0, wspace=0.0)\n",
    "            plt.show()"
   ]
  },
  {
   "cell_type": "code",
   "execution_count": 110,
   "metadata": {
    "pycharm": {
     "name": "#%%\n"
    }
   },
   "outputs": [],
   "source": [
    "def get_nuclei_properties(nuclei_masks, intensity_images, file_names = None, structure_dicts=None):\n",
    "    properties = get_basic_properties(nuclei_masks, intensity_images)\n",
    "    if structure_dicts is not None:\n",
    "        hc_ec_properties = get_hc_ec_properties(structure_dicts)\n",
    "        properties = pd.concat([properties, hc_ec_properties], axis=1)\n",
    "    if file_names is not None:\n",
    "        properties['file_name'] = file_names\n",
    "    return properties"
   ]
  },
  {
   "cell_type": "code",
   "execution_count": 113,
   "metadata": {},
   "outputs": [],
   "source": [
    "def get_basic_properties(nuclei_masks, intensity_images):\n",
    "    basic_properties = []\n",
    "    for i in range(len(nuclei_masks)):\n",
    "        nuclei_mask = nuclei_masks[i]\n",
    "        intensity_image = intensity_images[i]\n",
    "        \n",
    "        # 3D features\n",
    "        volume = np.sum(nuclei_mask)\n",
    "        iso_verts, iso_faces, _, _ = measure.marching_cubes(nuclei_mask)\n",
    "        surface_area = measure.mesh_surface_area(iso_verts, iso_faces)\n",
    "        sa_vo = surface_area/volume\n",
    "        \n",
    "        # 2D features\n",
    "        props = measure.regionprops(nuclei_mask.astype(np.uint8).max(axis=0), intensity_image.max(axis=0))[0]\n",
    "        area = props.area\n",
    "        eccentricity = props.eccentricity\n",
    "        aspect_ratio = max(props.intensity_image.shape)/min(props.intensity_image.shape)\n",
    "        convexity = area/props.convex_area\n",
    "        major_axis_length = props.major_axis_length\n",
    "        minor_axis_length = props.minor_axis_length\n",
    "        \n",
    "        basic_properties.append({'volume':volume, 'surface_area':surface_area, 'sa/vol':sa_vo, 'area':area, 'eccentricity':eccentricity, 'aspect_ratio':aspect_ratio, 'convexity':convexity, 'minor_axis_length':minor_axis_length, 'major_axis_length':major_axis_length})\n",
    "    basic_properties = pd.DataFrame(basic_properties)\n",
    "    return basic_properties"
   ]
  },
  {
   "cell_type": "code",
   "execution_count": 69,
   "metadata": {},
   "outputs": [],
   "source": [
    "def get_hc_ec_properties(structure_dicts):\n",
    "    hc_ec_properties = []\n",
    "    for structure_dict in structure_dicts:\n",
    "        hc_mask = structure_dict['hc_mask']\n",
    "        ec_mask = structure_dict['ec_mask']\n",
    "        hc_volume = np.sum(hc_mask)\n",
    "        ec_volume = np.sum(ec_mask)\n",
    "        nuclei_volume = hc_volume + ec_volume\n",
    "        hc_ec_ratio = hc_volume/ec_volume\n",
    "        ec_ratio = ec_volume/nuclei_volume\n",
    "        hc_ratio = hc_volume/nuclei_volume\n",
    "        props = {'ec_ratio': ec_ratio, 'hc_ratio':hc_ratio, 'hc_ec_ratio':hc_ec_ratio}\n",
    "        hc_ec_properties.append(props)\n",
    "    hc_ec_properties = pd.DataFrame(hc_ec_properties)\n",
    "    return hc_ec_properties"
   ]
  },
  {
   "cell_type": "markdown",
   "metadata": {},
   "source": [
    "---\n",
    "## 1. Read in data"
   ]
  },
  {
   "cell_type": "code",
   "execution_count": 114,
   "metadata": {},
   "outputs": [],
   "source": [
    "root_dir = '../data/tcell_project/filtered/selected_slices_ar_08_area25_50_16bit'\n",
    "file_list = get_file_list(root_dir)\n",
    "\n",
    "file_names = []\n",
    "for file in file_list:\n",
    "    file_names.append(os.path.split(file)[1])\n",
    "\n",
    "healthy_cell_ids = list(range(len(file_list)))\n",
    "healthy_cells = []\n",
    "\n",
    "for i in range(len(healthy_cell_ids)):\n",
    "    healthy_cells.append(np.squeeze(tifffile.imread(file_list[healthy_cell_ids[i]])))"
   ]
  },
  {
   "cell_type": "code",
   "execution_count": 116,
   "metadata": {},
   "outputs": [
    {
     "data": {
      "application/vnd.jupyter.widget-view+json": {
       "model_id": "5c2562749d3e4d0aa5621fcfe0e4a930",
       "version_major": 2,
       "version_minor": 0
      },
      "text/plain": [
       "interactive(children=(IntSlider(value=20, description='plane', max=20), Output()), _dom_classes=('widget-inter…"
      ]
     },
     "metadata": {},
     "output_type": "display_data"
    },
    {
     "data": {
      "text/plain": [
       "<function __main__.explore_slices_2_samples.<locals>.display_slice(plane=34)>"
      ]
     },
     "execution_count": 116,
     "metadata": {},
     "output_type": "execute_result"
    }
   ],
   "source": [
    "explore_slices_2_samples(healthy_cells[:2])"
   ]
  },
  {
   "cell_type": "markdown",
   "metadata": {
    "pycharm": {
     "name": "#%% md\n"
    }
   },
   "source": [
    "---\n",
    "\n",
    "## 2. Noise reduction\n",
    "\n",
    "The microscopy images are subject to different types of noise including Gaussian and salt-pepper noise. To denoise the images different techniques can be applied. Importantly, the SNR is especially high for very low and high levels of depth of the image as defined by the PSF function of confocal microscopies.\n",
    "\n",
    "However, before we will remove any signal from those layers that show no clear structure of an object (the nucleus). To this end, we will obtain the nuclear masks for each image using the Chan-Vese algorithm, and set any value outside the mask manually to zero."
   ]
  },
  {
   "cell_type": "code",
   "execution_count": 117,
   "metadata": {},
   "outputs": [
    {
     "name": "stderr",
     "output_type": "stream",
     "text": [
      "/usr/share/miniconda3/envs/nt/lib/python3.8/site-packages/skimage/segmentation/morphsnakes.py:106: FutureWarning: circle_level_set is deprecated in favor of disk_level_set.circle_level_set will be removed in version 0.19\n",
      "  res = circle_level_set(image_shape)\n"
     ]
    },
    {
     "ename": "KeyboardInterrupt",
     "evalue": "",
     "output_type": "error",
     "traceback": [
      "\u001B[0;31m---------------------------------------------------------------------------\u001B[0m",
      "\u001B[0;31mKeyboardInterrupt\u001B[0m                         Traceback (most recent call last)",
      "\u001B[0;32m<ipython-input-117-134d77625635>\u001B[0m in \u001B[0;36m<module>\u001B[0;34m\u001B[0m\n\u001B[0;32m----> 1\u001B[0;31m \u001B[0mcell_masks\u001B[0m \u001B[0;34m=\u001B[0m \u001B[0mget_nuclei_masks\u001B[0m\u001B[0;34m(\u001B[0m\u001B[0mhealthy_cells\u001B[0m\u001B[0;34m,\u001B[0m \u001B[0msmoothing\u001B[0m\u001B[0;34m=\u001B[0m\u001B[0;36m1\u001B[0m\u001B[0;34m)\u001B[0m\u001B[0;34m\u001B[0m\u001B[0;34m\u001B[0m\u001B[0m\n\u001B[0m",
      "\u001B[0;32m<ipython-input-9-c4d301b07020>\u001B[0m in \u001B[0;36mget_nuclei_masks\u001B[0;34m(cells, smoothing, fill_holes_layer_wise)\u001B[0m\n\u001B[1;32m      2\u001B[0m     \u001B[0mcell_masks\u001B[0m \u001B[0;34m=\u001B[0m \u001B[0;34m[\u001B[0m\u001B[0;34m]\u001B[0m\u001B[0;34m\u001B[0m\u001B[0;34m\u001B[0m\u001B[0m\n\u001B[1;32m      3\u001B[0m     \u001B[0;32mfor\u001B[0m \u001B[0mi\u001B[0m \u001B[0;32min\u001B[0m \u001B[0mrange\u001B[0m\u001B[0;34m(\u001B[0m\u001B[0mlen\u001B[0m\u001B[0;34m(\u001B[0m\u001B[0mcells\u001B[0m\u001B[0;34m)\u001B[0m\u001B[0;34m)\u001B[0m\u001B[0;34m:\u001B[0m\u001B[0;34m\u001B[0m\u001B[0;34m\u001B[0m\u001B[0m\n\u001B[0;32m----> 4\u001B[0;31m         cell_mask = segmentation.morphological_chan_vese(filters.median(cells[i]), smoothing=smoothing, iterations=300, \n\u001B[0m\u001B[1;32m      5\u001B[0m                                                          init_level_set='circle')\n\u001B[1;32m      6\u001B[0m         \u001B[0mcell_mask\u001B[0m \u001B[0;34m=\u001B[0m \u001B[0mndi\u001B[0m\u001B[0;34m.\u001B[0m\u001B[0mbinary_fill_holes\u001B[0m\u001B[0;34m(\u001B[0m\u001B[0mcell_mask\u001B[0m\u001B[0;34m)\u001B[0m\u001B[0;34m\u001B[0m\u001B[0;34m\u001B[0m\u001B[0m\n",
      "\u001B[0;32m/usr/share/miniconda3/envs/nt/lib/python3.8/site-packages/skimage/segmentation/morphsnakes.py\u001B[0m in \u001B[0;36mmorphological_chan_vese\u001B[0;34m(image, iterations, init_level_set, smoothing, lambda1, lambda2, iter_callback)\u001B[0m\n\u001B[1;32m    351\u001B[0m         \u001B[0;31m# Smoothing\u001B[0m\u001B[0;34m\u001B[0m\u001B[0;34m\u001B[0m\u001B[0;34m\u001B[0m\u001B[0m\n\u001B[1;32m    352\u001B[0m         \u001B[0;32mfor\u001B[0m \u001B[0m_\u001B[0m \u001B[0;32min\u001B[0m \u001B[0mrange\u001B[0m\u001B[0;34m(\u001B[0m\u001B[0msmoothing\u001B[0m\u001B[0;34m)\u001B[0m\u001B[0;34m:\u001B[0m\u001B[0;34m\u001B[0m\u001B[0;34m\u001B[0m\u001B[0m\n\u001B[0;32m--> 353\u001B[0;31m             \u001B[0mu\u001B[0m \u001B[0;34m=\u001B[0m \u001B[0m_curvop\u001B[0m\u001B[0;34m(\u001B[0m\u001B[0mu\u001B[0m\u001B[0;34m)\u001B[0m\u001B[0;34m\u001B[0m\u001B[0;34m\u001B[0m\u001B[0m\n\u001B[0m\u001B[1;32m    354\u001B[0m \u001B[0;34m\u001B[0m\u001B[0m\n\u001B[1;32m    355\u001B[0m         \u001B[0miter_callback\u001B[0m\u001B[0;34m(\u001B[0m\u001B[0mu\u001B[0m\u001B[0;34m)\u001B[0m\u001B[0;34m\u001B[0m\u001B[0;34m\u001B[0m\u001B[0m\n",
      "\u001B[0;32m/usr/share/miniconda3/envs/nt/lib/python3.8/site-packages/skimage/segmentation/morphsnakes.py\u001B[0m in \u001B[0;36m__call__\u001B[0;34m(self, *args, **kwargs)\u001B[0m\n\u001B[1;32m     24\u001B[0m     \u001B[0;32mdef\u001B[0m \u001B[0m__call__\u001B[0m\u001B[0;34m(\u001B[0m\u001B[0mself\u001B[0m\u001B[0;34m,\u001B[0m \u001B[0;34m*\u001B[0m\u001B[0margs\u001B[0m\u001B[0;34m,\u001B[0m \u001B[0;34m**\u001B[0m\u001B[0mkwargs\u001B[0m\u001B[0;34m)\u001B[0m\u001B[0;34m:\u001B[0m\u001B[0;34m\u001B[0m\u001B[0;34m\u001B[0m\u001B[0m\n\u001B[1;32m     25\u001B[0m         \u001B[0mf\u001B[0m \u001B[0;34m=\u001B[0m \u001B[0mnext\u001B[0m\u001B[0;34m(\u001B[0m\u001B[0mself\u001B[0m\u001B[0;34m.\u001B[0m\u001B[0mfuncs\u001B[0m\u001B[0;34m)\u001B[0m\u001B[0;34m\u001B[0m\u001B[0;34m\u001B[0m\u001B[0m\n\u001B[0;32m---> 26\u001B[0;31m         \u001B[0;32mreturn\u001B[0m \u001B[0mf\u001B[0m\u001B[0;34m(\u001B[0m\u001B[0;34m*\u001B[0m\u001B[0margs\u001B[0m\u001B[0;34m,\u001B[0m \u001B[0;34m**\u001B[0m\u001B[0mkwargs\u001B[0m\u001B[0;34m)\u001B[0m\u001B[0;34m\u001B[0m\u001B[0;34m\u001B[0m\u001B[0m\n\u001B[0m\u001B[1;32m     27\u001B[0m \u001B[0;34m\u001B[0m\u001B[0m\n\u001B[1;32m     28\u001B[0m \u001B[0;34m\u001B[0m\u001B[0m\n",
      "\u001B[0;32m/usr/share/miniconda3/envs/nt/lib/python3.8/site-packages/skimage/segmentation/morphsnakes.py\u001B[0m in \u001B[0;36m<lambda>\u001B[0;34m(u)\u001B[0m\n\u001B[1;32m     82\u001B[0m \u001B[0;34m\u001B[0m\u001B[0m\n\u001B[1;32m     83\u001B[0m _curvop = _fcycle([lambda u: sup_inf(inf_sup(u)),   # SIoIS\n\u001B[0;32m---> 84\u001B[0;31m                    lambda u: inf_sup(sup_inf(u))])  # ISoSI\n\u001B[0m\u001B[1;32m     85\u001B[0m \u001B[0;34m\u001B[0m\u001B[0m\n\u001B[1;32m     86\u001B[0m \u001B[0;34m\u001B[0m\u001B[0m\n",
      "\u001B[0;32m/usr/share/miniconda3/envs/nt/lib/python3.8/site-packages/skimage/segmentation/morphsnakes.py\u001B[0m in \u001B[0;36msup_inf\u001B[0;34m(u)\u001B[0m\n\u001B[1;32m     60\u001B[0m         \u001B[0merosions\u001B[0m\u001B[0;34m.\u001B[0m\u001B[0mappend\u001B[0m\u001B[0;34m(\u001B[0m\u001B[0mndi\u001B[0m\u001B[0;34m.\u001B[0m\u001B[0mbinary_erosion\u001B[0m\u001B[0;34m(\u001B[0m\u001B[0mu\u001B[0m\u001B[0;34m,\u001B[0m \u001B[0mP_i\u001B[0m\u001B[0;34m)\u001B[0m\u001B[0;34m)\u001B[0m\u001B[0;34m\u001B[0m\u001B[0;34m\u001B[0m\u001B[0m\n\u001B[1;32m     61\u001B[0m \u001B[0;34m\u001B[0m\u001B[0m\n\u001B[0;32m---> 62\u001B[0;31m     \u001B[0;32mreturn\u001B[0m \u001B[0mnp\u001B[0m\u001B[0;34m.\u001B[0m\u001B[0marray\u001B[0m\u001B[0;34m(\u001B[0m\u001B[0merosions\u001B[0m\u001B[0;34m,\u001B[0m \u001B[0mdtype\u001B[0m\u001B[0;34m=\u001B[0m\u001B[0mnp\u001B[0m\u001B[0;34m.\u001B[0m\u001B[0mint8\u001B[0m\u001B[0;34m)\u001B[0m\u001B[0;34m.\u001B[0m\u001B[0mmax\u001B[0m\u001B[0;34m(\u001B[0m\u001B[0;36m0\u001B[0m\u001B[0;34m)\u001B[0m\u001B[0;34m\u001B[0m\u001B[0;34m\u001B[0m\u001B[0m\n\u001B[0m\u001B[1;32m     63\u001B[0m \u001B[0;34m\u001B[0m\u001B[0m\n\u001B[1;32m     64\u001B[0m \u001B[0;34m\u001B[0m\u001B[0m\n",
      "\u001B[0;32m/usr/share/miniconda3/envs/nt/lib/python3.8/site-packages/numpy/core/_methods.py\u001B[0m in \u001B[0;36m_amax\u001B[0;34m(a, axis, out, keepdims, initial, where)\u001B[0m\n\u001B[1;32m     37\u001B[0m def _amax(a, axis=None, out=None, keepdims=False,\n\u001B[1;32m     38\u001B[0m           initial=_NoValue, where=True):\n\u001B[0;32m---> 39\u001B[0;31m     \u001B[0;32mreturn\u001B[0m \u001B[0mumr_maximum\u001B[0m\u001B[0;34m(\u001B[0m\u001B[0ma\u001B[0m\u001B[0;34m,\u001B[0m \u001B[0maxis\u001B[0m\u001B[0;34m,\u001B[0m \u001B[0;32mNone\u001B[0m\u001B[0;34m,\u001B[0m \u001B[0mout\u001B[0m\u001B[0;34m,\u001B[0m \u001B[0mkeepdims\u001B[0m\u001B[0;34m,\u001B[0m \u001B[0minitial\u001B[0m\u001B[0;34m,\u001B[0m \u001B[0mwhere\u001B[0m\u001B[0;34m)\u001B[0m\u001B[0;34m\u001B[0m\u001B[0;34m\u001B[0m\u001B[0m\n\u001B[0m\u001B[1;32m     40\u001B[0m \u001B[0;34m\u001B[0m\u001B[0m\n\u001B[1;32m     41\u001B[0m def _amin(a, axis=None, out=None, keepdims=False,\n",
      "\u001B[0;31mKeyboardInterrupt\u001B[0m: "
     ]
    }
   ],
   "source": [
    "cell_masks = get_nuclei_masks(healthy_cells, smoothing=1)"
   ]
  },
  {
   "cell_type": "code",
   "execution_count": null,
   "metadata": {},
   "outputs": [],
   "source": [
    "explore_slices(exposure.adjust_gamma(filters.median(healthy_cells[0]), 2))"
   ]
  },
  {
   "cell_type": "code",
   "execution_count": null,
   "metadata": {},
   "outputs": [],
   "source": [
    "explore_slices_2_samples([cell_masks[0], cell_masks[1]])"
   ]
  },
  {
   "cell_type": "code",
   "execution_count": null,
   "metadata": {
    "pycharm": {
     "name": "#%%\n"
    }
   },
   "outputs": [],
   "source": [
    "masked_cells = remove_noise_layers(healthy_cells, cell_masks)"
   ]
  },
  {
   "cell_type": "code",
   "execution_count": null,
   "metadata": {
    "pycharm": {
     "name": "#%%\n"
    }
   },
   "outputs": [],
   "source": [
    "filtered_cells = denoise_cells_bilateral(masked_cells, median_filter_size=0)"
   ]
  },
  {
   "cell_type": "code",
   "execution_count": null,
   "metadata": {
    "pycharm": {
     "name": "#%%\n"
    }
   },
   "outputs": [],
   "source": [
    "explore_slices_2_samples([healthy_cells[2], filtered_cells[2]], cmap='seismic')"
   ]
  },
  {
   "cell_type": "markdown",
   "metadata": {
    "pycharm": {
     "name": "#%% md\n"
    }
   },
   "source": [
    "While the results look promising, we still face the issue that if there is not object in the picture (i.e. for the first couple and the last layers typically) the SNR << 1, which means we basically look at random noise. A simple method would be to remove the first 2 and final 2 layers, respectively segment the individual images additionally to find the borders of the nuclei in the z-dimension.\n",
    "\n",
    "The latter approach seems to be more sophisticated and promising is however at the time being subject to future work."
   ]
  },
  {
   "cell_type": "markdown",
   "metadata": {},
   "source": [
    "---\n",
    "\n",
    "## 3. Exposure correction on nuclei mask\n",
    "\n",
    "After reading in the data, we will adjust the contrasts of the images to facilitate the consecutive structure detection. "
   ]
  },
  {
   "cell_type": "markdown",
   "metadata": {
    "pycharm": {
     "name": "#%% md\n"
    }
   },
   "source": [
    "Let us inspect the effect of the intensity rescaling."
   ]
  },
  {
   "cell_type": "code",
   "execution_count": null,
   "metadata": {},
   "outputs": [],
   "source": [
    "rescaled_cells = rescale_intensities(filtered_cells)\n",
    "explore_slices_2_samples([masked_cells[0], rescaled_cells[0]], cmap='seismic')"
   ]
  },
  {
   "cell_type": "markdown",
   "metadata": {
    "pycharm": {
     "name": "#%% md\n"
    }
   },
   "source": [
    "---\n",
    "\n",
    "## 4. Chromatin structure detection\n",
    "\n",
    "We will now use the contrast enhanced images and try to identify heterochromatal and euchromatal structures. We know that heterochromatin is visible in the image space by regions of higher intensities as the more densely packed DNA reflects more light. Euchromatin on the opposite marks areas of loosely packed DNA, i.e. those areas in the image space for DAPI stained nuclei, where we see darker patterns.\n",
    "\n",
    "\n",
    "\n",
    "\n",
    "\n",
    "### 4.1. Thresholding\n",
    "A straight forward approach is simply applying a threshold to bin the image into background, heterochromatin and euchromatin areas.\n"
   ]
  },
  {
   "cell_type": "code",
   "execution_count": null,
   "metadata": {},
   "outputs": [],
   "source": [
    "colored_cell_masks = color_3d_cells(cell_masks, rescaled_cells)"
   ]
  },
  {
   "cell_type": "code",
   "execution_count": null,
   "metadata": {},
   "outputs": [],
   "source": [
    "explore_slices_2_samples(colored_cell_masks)"
   ]
  },
  {
   "cell_type": "code",
   "execution_count": null,
   "metadata": {},
   "outputs": [],
   "source": [
    "structure_dicts = get_hc_ec_structure_maps_by_thresholding(rescaled_cells, cell_masks)"
   ]
  },
  {
   "cell_type": "code",
   "execution_count": null,
   "metadata": {},
   "outputs": [],
   "source": [
    "explore_slices_2_samples([structure_dicts[0]['masked_cell'], structure_dicts[0]['hc_mask']])"
   ]
  },
  {
   "cell_type": "code",
   "execution_count": null,
   "metadata": {},
   "outputs": [],
   "source": [
    "labeled_cells = get_labeled_cells_for_hc_ec_structures(structure_dicts)"
   ]
  },
  {
   "cell_type": "code",
   "execution_count": null,
   "metadata": {
    "pycharm": {
     "name": "#%%\n"
    }
   },
   "outputs": [],
   "source": [
    "color_labeled_cells = color_3d_cells(labeled_cells, rescaled_cells)"
   ]
  },
  {
   "cell_type": "code",
   "execution_count": null,
   "metadata": {
    "pycharm": {
     "name": "#%%\n"
    }
   },
   "outputs": [],
   "source": [
    "explore_slices_2_samples([color_labeled_cells[5], color_labeled_cells[8]])"
   ]
  },
  {
   "cell_type": "code",
   "execution_count": null,
   "outputs": [],
   "source": [
    "plot_3d_images_as_map(color_labeled_cells, n_images_per_slide=20)"
   ],
   "metadata": {
    "collapsed": false,
    "pycharm": {
     "name": "#%%\n"
    }
   }
  },
  {
   "cell_type": "markdown",
   "source": [
    "The above shows the result of the threshold-based segmentation of heterochromatin (blue) and euchormatin(red). Note that the segmentation does not distinguish between other potential structures that could cause the intensity differences."
   ],
   "metadata": {
    "collapsed": false
   }
  },
  {
   "cell_type": "markdown",
   "source": [
    "---\n",
    "\n",
    "## 5. Basic nuclei properties\n",
    "\n",
    "We will now derive basic properties for the individual nuclei. Those are by no means the only important ones. In fact a better collection of respective measurements is given in [Venkatachalapathy et al. (2020)](https://www.molbiolcell.org/doi/suppl/10.1091/mbc.E19-08-0420)."
   ],
   "metadata": {
    "collapsed": false
   }
  },
  {
   "cell_type": "code",
   "execution_count": null,
   "outputs": [],
   "source": [
    "nuclei_properties = get_nuclei_properties(nuclei_masks = cell_masks, intensity_images = healthy_cells, file_names=file_names, structure_dicts = structure_dicts)"
   ],
   "metadata": {
    "collapsed": false,
    "pycharm": {
     "name": "#%%\n"
    }
   }
  },
  {
   "cell_type": "code",
   "execution_count": null,
   "outputs": [],
   "source": [
    "nuclei_properties"
   ],
   "metadata": {
    "collapsed": false,
    "pycharm": {
     "name": "#%%\n"
    }
   }
  },
  {
   "cell_type": "markdown",
   "source": [
    "---\n",
    "\n",
    "## 6. Chromosome border detection\n",
    "\n",
    "Going one step further we would like to explore if it is possible to derive borders of chromosomes from the DAPI images for the individual cells. While labeled images can be obtained experimentally using FISH, we here focus on approaches that only use the segmented nuclei DAPI images. We exploit the fact that, we now that more transcription happens along the overlap of chromosomes in space and in the image this will be shown as areas of lower intensity. The idea is that using the images, we might find tube-like objects that could represent the centromeres of a chromosome. If we can follow the direction of the surface, we might be able to associate areas of lower intensity to potential overlaps of chromosomes.\n",
    "\n",
    "As a first step however, we aim to segment the intranuclear structure into different segments. We are particurly interested in the heterochromatin structures. After segmenting those, we can try to analyze the individual detected heterochromatin formations and see if those form what could be centromeres or telomeres of some chromosomes.\n",
    "\n",
    "However, it is important that the quality of the images (with respect to the resolution and the staining) prohibits any sophisticated assessment of how well we are doing. We lack both ground truth information about the position of certain chromosomes in 3D and and images that have a higher SNR."
   ],
   "metadata": {
    "collapsed": false
   }
  },
  {
   "cell_type": "code",
   "execution_count": null,
   "metadata": {},
   "outputs": [],
   "source": [
    "#### Nuclei segmentation"
   ]
  },
  {
   "cell_type": "markdown",
   "metadata": {},
   "source": [
    "The above shows the result of the threshold-based segmentation of heterochromatin (blue) and euchormatin(red). Note that the segmentation does not distinguish between other potential structures that could cause the intensity differences."
   ]
  },
  {
   "cell_type": "markdown",
   "metadata": {},
   "source": [
    "---\n",
    "\n",
    "## 5. Basic nuclei properties\n",
    "\n",
    "We will now derive basic properties for the individual nuclei. Those are by no means the only important ones. In fact a better collection of respective measurements is given in [Venkatachalapathy et al. (2020)](https://www.molbiolcell.org/doi/suppl/10.1091/mbc.E19-08-0420)."
   ]
  },
  {
   "cell_type": "code",
   "execution_count": null,
   "metadata": {},
   "outputs": [],
   "source": [
    "nuclei_properties = get_nuclei_properties(nuclei_masks = cell_masks, intensity_images = healthy_cells, file_names=file_names, structure_dicts = structure_dicts)"
   ]
  },
  {
   "cell_type": "code",
   "execution_count": null,
   "metadata": {},
   "outputs": [],
   "source": [
    "nuclei_properties"
   ]
  },
  {
   "cell_type": "markdown",
   "metadata": {},
   "source": [
    "---\n",
    "\n",
    "## 6. Chromosome border detection\n",
    "\n",
    "Going one step further we would like to explore if it is possible to derive borders of chromosomes from the DAPI images for the individual cells. While labeled images can be obtained experimentally using FISH, we here focus on approaches that only use the segmented nuclei DAPI images. We exploit the fact that, we now that more transcription happens along the overlap of chromosomes in space and in the image this will be shown as areas of lower intensity. The idea is that using the images, we might find tube-like objects that could represent the centromeres of a chromosome. If we can follow the direction of the surface, we might be able to associate areas of lower intensity to potential overlaps of chromosomes.\n",
    "\n",
    "As a first step however, we aim to segment the intranuclear structure into different segments. We are particurly interested in the heterochromatin structures. After segmenting those, we can try to analyze the individual detected heterochromatin formations and see if those form what could be centromeres or telomeres of some chromosomes.\n",
    "\n",
    "However, it is important that the quality of the images (with respect to the resolution and the staining) prohibits any sophisticated assessment of how well we are doing. We lack both ground truth information about the position of certain chromosomes in 3D and and images that have a higher SNR."
   ]
  },
  {
   "cell_type": "markdown",
   "metadata": {},
   "source": [
    "#### Nuclei segmentation"
   ]
  },
  {
   "cell_type": "code",
   "execution_count": 29,
   "metadata": {},
   "outputs": [],
   "source": [
    "import visvis as vv\n",
    "from skimage import util\n",
    "verts, faces, normals, values = measure.marching_cubes(rescaled_cells[0], allow_degenerate=False)\n",
    "vv.mesh(np.fliplr(verts), faces, normals, values)\n",
    "vv.use().Run()"
   ]
  },
  {
   "cell_type": "markdown",
   "metadata": {},
   "source": [
    "#### Euchromatin surface structures"
   ]
  },
  {
   "cell_type": "code",
   "execution_count": null,
   "metadata": {},
   "outputs": [],
   "source": []
  }
 ],
 "metadata": {
  "kernelspec": {
   "display_name": "Python 3",
   "language": "python",
   "name": "python3"
  },
  "language_info": {
   "codemirror_mode": {
    "name": "ipython",
    "version": 3
   },
   "file_extension": ".py",
   "mimetype": "text/x-python",
   "name": "python",
   "nbconvert_exporter": "python",
   "pygments_lexer": "ipython3",
   "version": "3.8.5"
  }
 },
 "nbformat": 4,
 "nbformat_minor": 4
}