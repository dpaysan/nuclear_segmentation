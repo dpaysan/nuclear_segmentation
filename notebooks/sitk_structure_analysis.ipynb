{
 "cells": [
  {
   "cell_type": "markdown",
   "metadata": {},
   "source": [
    "# 3D Surface detection\n",
    "\n",
    "This notebook serves as a sandbox for the SimpleITK framework and will be used to derive the 3D surfaces from the single cell images.\n",
    "\n",
    "---"
   ]
  },
  {
   "cell_type": "markdown",
   "metadata": {},
   "source": [
    "## 0. Environmental setup"
   ]
  },
  {
   "cell_type": "code",
   "execution_count": 1,
   "metadata": {},
   "outputs": [],
   "source": [
    "import matplotlib.pyplot as plt\n",
    "import SimpleITK as sitk\n",
    "import tifffile\n",
    "import sys\n",
    "import numpy as np\n",
    "from skimage import color, filters, segmentation, exposure, morphology\n",
    "import scipy.ndimage as ndi\n",
    "import copy\n",
    "\n",
    "sys.path.append('..')\n",
    "\n",
    "from src.utils.io import get_file_list\n",
    "\n",
    "!export SITK_SHOW_COMMAND='/home/daniel/Applications/Fiji.app/ImageJ-linux64'"
   ]
  },
  {
   "cell_type": "code",
   "execution_count": 2,
   "metadata": {},
   "outputs": [],
   "source": [
    "def show_plane(ax, plane, cmap=\"gray\", title=None):\n",
    "    ax.imshow(plane, cmap=cmap)\n",
    "    ax.axis(\"off\")\n",
    "\n",
    "    if title:\n",
    "        ax.set_title(title)\n",
    "\n",
    "        \n",
    "def explore_slices(data, cmap=\"gray\"):\n",
    "    from ipywidgets import interact\n",
    "    N = len(data)\n",
    "\n",
    "    @interact(plane=(0, N - 1))\n",
    "    def display_slice(plane=34):\n",
    "        fig, ax = plt.subplots(figsize=(20, 5))\n",
    "\n",
    "        show_plane(ax, data[plane], title=\"Plane {}\".format(plane), cmap=cmap)\n",
    "\n",
    "        plt.show()\n",
    "\n",
    "    return display_slice\n",
    "\n",
    "def explore_slices_2_samples(data, cmap=\"gray\"):\n",
    "    from ipywidgets import interact\n",
    "    N = len(data[0])\n",
    "\n",
    "    @interact(plane=(0, N - 1))\n",
    "    def display_slice(plane=34):\n",
    "        fig, ax = plt.subplots(figsize=(20, 5), nrows=1, ncols=2)\n",
    "\n",
    "        show_plane(ax[0], data[0][plane], title=\"Plane {}\".format(plane), cmap=cmap)\n",
    "        show_plane(ax[1], data[1][plane], title='Plane {}'.format(plane), cmap=cmap)\n",
    "\n",
    "        plt.show()\n",
    "\n",
    "    return display_slice\n"
   ]
  },
  {
   "cell_type": "markdown",
   "metadata": {},
   "source": [
    "---\n",
    "\n",
    "## 1. Read in data"
   ]
  },
  {
   "cell_type": "code",
   "execution_count": 3,
   "metadata": {},
   "outputs": [],
   "source": [
    "root_dir = '../data/tcell_project/filtered/selected_slices_ar_08_area25_50_16bit'\n",
    "root_dir = '/home/daniel/PycharmProjects/nuclear_segmentation/data/tcell_project/filtered/fish_ar_08_area_400sqmicron/filtered/'\n",
    "file_list = get_file_list(root_dir)\n",
    "\n",
    "cell_ids = list(range(20))\n",
    "cells = []\n",
    "\n",
    "for i in range(len(cell_ids)):\n",
    "    cells.append(np.squeeze(tifffile.imread(file_list[cell_ids[i]])))"
   ]
  },
  {
   "cell_type": "code",
   "execution_count": 25,
   "metadata": {},
   "outputs": [
    {
     "name": "stdout",
     "output_type": "stream",
     "text": [
      "['/home/daniel/PycharmProjects/nuclear_segmentation/data/tcell_project/filtered/fish_ar_08_area_400sqmicron/filtered/t_cell_chr1_chr3_activated_2_s0_n0.tiff', '/home/daniel/PycharmProjects/nuclear_segmentation/data/tcell_project/filtered/fish_ar_08_area_400sqmicron/filtered/t_cell_chr1_chr3_activated_3_s0_n0.tiff', '/home/daniel/PycharmProjects/nuclear_segmentation/data/tcell_project/filtered/fish_ar_08_area_400sqmicron/filtered/t_cell_chr1_chr3_activated_3_s0_n1.tiff', '/home/daniel/PycharmProjects/nuclear_segmentation/data/tcell_project/filtered/fish_ar_08_area_400sqmicron/filtered/t_cell_chr1_chr3_activated_5_s0_n0.tiff', '/home/daniel/PycharmProjects/nuclear_segmentation/data/tcell_project/filtered/fish_ar_08_area_400sqmicron/filtered/t_cell_chr1_chr3_activated_5_s0_n1.tiff', '/home/daniel/PycharmProjects/nuclear_segmentation/data/tcell_project/filtered/fish_ar_08_area_400sqmicron/filtered/t_cell_chr1_chr3_activated_6_s0_n0.tiff', '/home/daniel/PycharmProjects/nuclear_segmentation/data/tcell_project/filtered/fish_ar_08_area_400sqmicron/filtered/t_cell_chr1_chr3_activated_6_s0_n1.tiff', '/home/daniel/PycharmProjects/nuclear_segmentation/data/tcell_project/filtered/fish_ar_08_area_400sqmicron/filtered/t_cell_chr1_chr3_activated_7_s0_n2.tiff', '/home/daniel/PycharmProjects/nuclear_segmentation/data/tcell_project/filtered/fish_ar_08_area_400sqmicron/filtered/t_cell_chr1_chr3_activated_8_s0_n0.tiff', '/home/daniel/PycharmProjects/nuclear_segmentation/data/tcell_project/filtered/fish_ar_08_area_400sqmicron/filtered/t_cell_chr1_chr3_activated_9_s0_n0.tiff', '/home/daniel/PycharmProjects/nuclear_segmentation/data/tcell_project/filtered/fish_ar_08_area_400sqmicron/filtered/t_cell_chr1_chr3_activated_10_s0_n0.tiff', '/home/daniel/PycharmProjects/nuclear_segmentation/data/tcell_project/filtered/fish_ar_08_area_400sqmicron/filtered/t_cell_chr1_chr3_activated_10_s0_n1.tiff', '/home/daniel/PycharmProjects/nuclear_segmentation/data/tcell_project/filtered/fish_ar_08_area_400sqmicron/filtered/t_cell_chr1_chr3_activated_10_s0_n2.tiff', '/home/daniel/PycharmProjects/nuclear_segmentation/data/tcell_project/filtered/fish_ar_08_area_400sqmicron/filtered/t_cell_chr1_chr3_activated_11_s0_n0.tiff', '/home/daniel/PycharmProjects/nuclear_segmentation/data/tcell_project/filtered/fish_ar_08_area_400sqmicron/filtered/t_cell_chr1_chr3_activated_11_s0_n1.tiff', '/home/daniel/PycharmProjects/nuclear_segmentation/data/tcell_project/filtered/fish_ar_08_area_400sqmicron/filtered/t_cell_chr1_chr3_activated_12_s0_n0.tiff', '/home/daniel/PycharmProjects/nuclear_segmentation/data/tcell_project/filtered/fish_ar_08_area_400sqmicron/filtered/t_cell_chr1_chr3_activated_13_s0_n0.tiff', '/home/daniel/PycharmProjects/nuclear_segmentation/data/tcell_project/filtered/fish_ar_08_area_400sqmicron/filtered/t_cell_chr1_chr3_activated_14_s0_n0.tiff', '/home/daniel/PycharmProjects/nuclear_segmentation/data/tcell_project/filtered/fish_ar_08_area_400sqmicron/filtered/t_cell_chr1_chr3_activated_15_s0_n0.tiff', '/home/daniel/PycharmProjects/nuclear_segmentation/data/tcell_project/filtered/fish_ar_08_area_400sqmicron/filtered/t_cell_chr1_chr3_activated_16_s0_n0.tiff']\n"
     ]
    }
   ],
   "source": [
    "print(file_list[:20])"
   ]
  },
  {
   "cell_type": "code",
   "execution_count": 26,
   "metadata": {},
   "outputs": [],
   "source": [
    "dapi_imgs = []\n",
    "chr1_imgs = []\n",
    "chr3_imgs = []\n",
    "for i in range(len(cells)):\n",
    "    dapi_imgs.append(cells[i][:,0,:,:])\n",
    "    chr1_imgs.append(cells[i][:,1,:,:])\n",
    "    chr3_imgs.append(cells[i][:,2,:,:])"
   ]
  },
  {
   "cell_type": "code",
   "execution_count": 5,
   "metadata": {},
   "outputs": [],
   "source": [
    "#dapi_img = cells[0]\n",
    "cell_img = sitk.GetImageFromArray(dapi_img.astype(np.float32))"
   ]
  },
  {
   "cell_type": "code",
   "execution_count": 6,
   "metadata": {},
   "outputs": [
    {
     "data": {
      "application/vnd.jupyter.widget-view+json": {
       "model_id": "2a39790944424d6cb52767a6f2f44f46",
       "version_major": 2,
       "version_minor": 0
      },
      "text/plain": [
       "interactive(children=(IntSlider(value=23, description='plane', max=23), Output()), _dom_classes=('widget-inter…"
      ]
     },
     "metadata": {},
     "output_type": "display_data"
    },
    {
     "data": {
      "text/plain": [
       "<function __main__.explore_slices.<locals>.display_slice(plane=34)>"
      ]
     },
     "execution_count": 6,
     "metadata": {},
     "output_type": "execute_result"
    }
   ],
   "source": [
    "explore_slices(sitk.GetArrayFromImage(cell_img))"
   ]
  },
  {
   "cell_type": "markdown",
   "metadata": {},
   "source": [
    "---\n",
    "\n",
    "## 2. Canny Edge detection in 3D"
   ]
  },
  {
   "cell_type": "code",
   "execution_count": 22,
   "metadata": {},
   "outputs": [],
   "source": [
    "edges = sitk.CannyEdgeDetection(cell_img, lowerThreshold=0.0, \n",
    "                                upperThreshold=20.0, variance = (2.0,2.0,2.0))"
   ]
  },
  {
   "cell_type": "code",
   "execution_count": 23,
   "metadata": {},
   "outputs": [
    {
     "data": {
      "application/vnd.jupyter.widget-view+json": {
       "model_id": "f23b50e633db4355a111e6d0009c7086",
       "version_major": 2,
       "version_minor": 0
      },
      "text/plain": [
       "interactive(children=(IntSlider(value=23, description='plane', max=23), Output()), _dom_classes=('widget-inter…"
      ]
     },
     "metadata": {},
     "output_type": "display_data"
    },
    {
     "data": {
      "text/plain": [
       "<function __main__.explore_slices.<locals>.display_slice(plane=34)>"
      ]
     },
     "execution_count": 23,
     "metadata": {},
     "output_type": "execute_result"
    }
   ],
   "source": [
    "explore_slices(sitk.GetArrayFromImage(edges))"
   ]
  },
  {
   "cell_type": "markdown",
   "metadata": {},
   "source": [
    "---\n",
    "\n",
    "## 3. Chromosome masks\n",
    "\n",
    "In the following we will aim to derive the chromosome masks.\n",
    "\n",
    "Let us first have a blink at the raw data."
   ]
  },
  {
   "cell_type": "code",
   "execution_count": 9,
   "metadata": {},
   "outputs": [
    {
     "data": {
      "application/vnd.jupyter.widget-view+json": {
       "model_id": "6d3795b763c645faba4cde2c7500bd45",
       "version_major": 2,
       "version_minor": 0
      },
      "text/plain": [
       "interactive(children=(IntSlider(value=23, description='plane', max=23), Output()), _dom_classes=('widget-inter…"
      ]
     },
     "metadata": {},
     "output_type": "display_data"
    },
    {
     "data": {
      "text/plain": [
       "<function __main__.explore_slices.<locals>.display_slice(plane=34)>"
      ]
     },
     "execution_count": 9,
     "metadata": {},
     "output_type": "execute_result"
    }
   ],
   "source": [
    "explore_slices(chr_img_3)"
   ]
  },
  {
   "cell_type": "code",
   "execution_count": 10,
   "metadata": {},
   "outputs": [],
   "source": [
    "def get_structure_mask(dapi_img, mask=None):\n",
    "    filtered = exposure.adjust_gamma(filters.median(dapi_img),0.5)\n",
    "    #cell_mask = segmentation.morphological_chan_vese(filtered, 500)\n",
    "    t = filters.threshold_otsu(filtered)\n",
    "    binary = filtered > t\n",
    "    cell_mask = []\n",
    "    for i in range(len(filtered)):\n",
    "        filled = ndi.binary_fill_holes(binary[i])\n",
    "        filled = morphology.remove_small_objects(filled)\n",
    "        cell_mask.append(filled)\n",
    "    cell_mask = np.array(cell_mask)\n",
    "    return cell_mask"
   ]
  },
  {
   "cell_type": "code",
   "execution_count": 16,
   "metadata": {},
   "outputs": [],
   "source": [
    "def get_masked_chromosome_image(chr_img, nuclei_mask):\n",
    "    chr_mask = np.zeros_like(chr_img)\n",
    "    chr_mask[nuclei_mask] = chr_img[nuclei_mask]\n",
    "    return chr_mask"
   ]
  },
  {
   "cell_type": "code",
   "execution_count": 17,
   "metadata": {},
   "outputs": [],
   "source": [
    "nuclei_mask = get_structure_mask(dapi_img)\n",
    "masked_chr_img_1 = get_masked_chromosome_image(chr_img_1, nuclei_mask)"
   ]
  },
  {
   "cell_type": "code",
   "execution_count": 21,
   "metadata": {},
   "outputs": [
    {
     "data": {
      "application/vnd.jupyter.widget-view+json": {
       "model_id": "b0d25ea544da4938ab28b02f8f0910af",
       "version_major": 2,
       "version_minor": 0
      },
      "text/plain": [
       "interactive(children=(IntSlider(value=23, description='plane', max=23), Output()), _dom_classes=('widget-inter…"
      ]
     },
     "metadata": {},
     "output_type": "display_data"
    },
    {
     "data": {
      "text/plain": [
       "<function __main__.explore_slices_2_samples.<locals>.display_slice(plane=34)>"
      ]
     },
     "execution_count": 21,
     "metadata": {},
     "output_type": "execute_result"
    }
   ],
   "source": [
    "explore_slices_2_samples([dapi_img, masked_chr_img_1])"
   ]
  },
  {
   "cell_type": "code",
   "execution_count": null,
   "metadata": {},
   "outputs": [],
   "source": [
    "surface_mask = sitk.GetArrayFromImage(edges)\n",
    "for i in range(len(surface_mask))"
   ]
  },
  {
   "cell_type": "markdown",
   "metadata": {},
   "source": [
    "---\n"
   ]
  }
 ],
 "metadata": {
  "kernelspec": {
   "display_name": "Python 3",
   "language": "python",
   "name": "python3"
  },
  "language_info": {
   "codemirror_mode": {
    "name": "ipython",
    "version": 3
   },
   "file_extension": ".py",
   "mimetype": "text/x-python",
   "name": "python",
   "nbconvert_exporter": "python",
   "pygments_lexer": "ipython3",
   "version": "3.8.5"
  }
 },
 "nbformat": 4,
 "nbformat_minor": 4
}
