{
 "cells": [
  {
   "cell_type": "markdown",
   "metadata": {},
   "source": [
    "# Structure detection\n",
    "\n",
    "\n",
    "This notebook serves as a sandbox for structure detection of 3D microscopy images.\n",
    "\n",
    "---"
   ]
  },
  {
   "cell_type": "markdown",
   "metadata": {},
   "source": [
    "## 0. Environmental setup"
   ]
  },
  {
   "cell_type": "code",
   "execution_count": 176,
   "metadata": {},
   "outputs": [],
   "source": [
    "import numpy as np\n",
    "import cv2\n",
    "import tifffile\n",
    "import matplotlib.pyplot as plt\n",
    "from mpl_toolkits.mplot3d.art3d import Poly3DCollection\n",
    "import sys\n",
    "import random\n",
    "from skimage import exposure, filters, feature, restoration, measure, morphology, color\n",
    "from scipy import ndimage as ndi\n",
    "from numpy import ma\n",
    "import copy\n",
    "\n",
    "sys.path.append('..')\n",
    "\n",
    "from src.utils.io import get_file_list\n",
    "\n",
    "np.random.seed(1234)\n",
    "random.seed(1234)"
   ]
  },
  {
   "cell_type": "code",
   "execution_count": 11,
   "metadata": {},
   "outputs": [],
   "source": [
    "def show_plane(ax, plane, cmap=\"gray\", title=None):\n",
    "    ax.imshow(plane, cmap=cmap)\n",
    "    ax.axis(\"off\")\n",
    "\n",
    "    if title:\n",
    "        ax.set_title(title)\n",
    "\n",
    "        \n",
    "def explore_slices(data, cmap=\"gray\"):\n",
    "    from ipywidgets import interact\n",
    "    N = len(data)\n",
    "\n",
    "    @interact(plane=(0, N - 1))\n",
    "    def display_slice(plane=34):\n",
    "        fig, ax = plt.subplots(figsize=(20, 5))\n",
    "\n",
    "        show_plane(ax, data[plane], title=\"Plane {}\".format(plane), cmap=cmap)\n",
    "\n",
    "        plt.show()\n",
    "\n",
    "    return display_slice\n",
    "\n",
    "def explore_slices_2_samples(data, cmap=\"gray\"):\n",
    "    from ipywidgets import interact\n",
    "    N = len(data[0])\n",
    "\n",
    "    @interact(plane=(0, N - 1))\n",
    "    def display_slice(plane=34):\n",
    "        fig, ax = plt.subplots(figsize=(20, 5), nrows=1, ncols=2)\n",
    "\n",
    "        show_plane(ax[0], data[0][plane], title=\"Plane {}\".format(plane), cmap=cmap)\n",
    "        show_plane(ax[1], data[1][plane], title='Plane {}'.format(plane), cmap=cmap)\n",
    "\n",
    "        plt.show()\n",
    "\n",
    "    return display_slice\n"
   ]
  },
  {
   "cell_type": "markdown",
   "metadata": {},
   "source": [
    "---\n",
    "## 1. Read in data"
   ]
  },
  {
   "cell_type": "code",
   "execution_count": 12,
   "metadata": {},
   "outputs": [],
   "source": [
    "root_dir = '../data/tcell_project/filtered/20201005_122654/filtered'\n",
    "file_list = get_file_list(root_dir)\n",
    "\n",
    "healthy_cell_ids = list(range(19))+[20,21]\n",
    "healthy_cells = []\n",
    "\n",
    "for i in range(len(healthy_cell_ids)):\n",
    "    healthy_cells.append(np.squeeze(tifffile.imread(file_list[healthy_cell_ids[i]])))"
   ]
  },
  {
   "cell_type": "code",
   "execution_count": 13,
   "metadata": {},
   "outputs": [
    {
     "data": {
      "application/vnd.jupyter.widget-view+json": {
       "model_id": "fba7f08a851e48628cbfc0813a59c561",
       "version_major": 2,
       "version_minor": 0
      },
      "text/plain": [
       "interactive(children=(IntSlider(value=20, description='plane', max=20), Output()), _dom_classes=('widget-inter…"
      ]
     },
     "metadata": {},
     "output_type": "display_data"
    },
    {
     "data": {
      "text/plain": [
       "<function __main__.explore_slices_2_samples.<locals>.display_slice(plane=34)>"
      ]
     },
     "execution_count": 13,
     "metadata": {},
     "output_type": "execute_result"
    }
   ],
   "source": [
    "explore_slices_2_samples(healthy_cells[:2])"
   ]
  },
  {
   "cell_type": "markdown",
   "metadata": {},
   "source": [
    "---\n",
    "\n",
    "## 2. Noise reduction\n",
    "\n",
    "The microscopy images are subject to different types of noise including Gaussian and salt-pepper noise. To denoise the images different techniques can be applied. Importantly, the SNR is especially high for very low and high levels of depth of the image as defined by the PSF function of confocal microscopies."
   ]
  },
  {
   "cell_type": "code",
   "execution_count": 14,
   "metadata": {},
   "outputs": [],
   "source": [
    "def denoise_cells_denoise_bilateral(cells, sigma=15):\n",
    "    denoised_cells = []\n",
    "    for i in range(len(cells)):\n",
    "        denoised_cell = []\n",
    "        for j in range(len(cells[i])):\n",
    "            denoised_cell.append(restoration.denoise_bilateral(cells[i][j], sigma_spatial=sigma, \n",
    "                                                               multichannel=False))\n",
    "        denoised_cells.append(np.array(denoised_cell))\n",
    "    return denoised_cells"
   ]
  },
  {
   "cell_type": "code",
   "execution_count": 15,
   "metadata": {},
   "outputs": [],
   "source": [
    "def filter_noise_layers(cells, sigma=2):\n",
    "    filtered_cells = []\n",
    "    for i in range(len(cells)):\n",
    "        cell= []\n",
    "        for j in range(len(cells[i])):\n",
    "            edges = feature.canny(cells[i][j], sigma)\n",
    "            if np.any(edges):\n",
    "                cell.append(cells[i][j])\n",
    "            else:\n",
    "                cell.append(np.zeros(cells[i][j].shape))\n",
    "        filtered_cells.append(np.array(cell))\n",
    "    return filtered_cells"
   ]
  },
  {
   "cell_type": "code",
   "execution_count": 16,
   "metadata": {},
   "outputs": [],
   "source": [
    "filtered_cells = denoise_cells_bilateral(healthy_cells)"
   ]
  },
  {
   "cell_type": "code",
   "execution_count": 17,
   "metadata": {},
   "outputs": [
    {
     "data": {
      "application/vnd.jupyter.widget-view+json": {
       "model_id": "d991708f9ea7429b9f3a7a3183192250",
       "version_major": 2,
       "version_minor": 0
      },
      "text/plain": [
       "interactive(children=(IntSlider(value=20, description='plane', max=20), Output()), _dom_classes=('widget-inter…"
      ]
     },
     "metadata": {},
     "output_type": "display_data"
    },
    {
     "data": {
      "text/plain": [
       "<function __main__.explore_slices_2_samples.<locals>.display_slice(plane=34)>"
      ]
     },
     "execution_count": 17,
     "metadata": {},
     "output_type": "execute_result"
    }
   ],
   "source": [
    "explore_slices_2_samples([healthy_cells[2], filtered_cells[2]], cmap='seismic')"
   ]
  },
  {
   "cell_type": "markdown",
   "metadata": {},
   "source": [
    "While the results look promising, we still face the issue that if there is not object in the picture (i.e. for the first couple and the last layers typically) the SNR << 1, which means we basically look at random noise. A simple method would be to remove the first 2 and final 2 layers, respectively segment the individual images additionally to find the borders of the nuclei in the z-dimension.\n",
    "\n",
    "The latter approach seems to be more sophisticated and promising is however at the time being subject to future work."
   ]
  },
  {
   "cell_type": "markdown",
   "metadata": {},
   "source": [
    "---\n",
    "\n",
    "## 3. Exposure correction\n",
    "\n",
    "After reading in the data, we will adjust the contrasts of the images to facilitate the consecutive structure detection."
   ]
  },
  {
   "cell_type": "code",
   "execution_count": 18,
   "metadata": {},
   "outputs": [],
   "source": [
    "def rescale_intensities(cell_imgs, qs=None, out_range=None):\n",
    "    if qs is None:\n",
    "        qs=[0.5, 99.5]\n",
    "    if out_range is None:\n",
    "        out_range = np.float32\n",
    "    rescaled_cell_imgs = []\n",
    "    \n",
    "    for i in range(len(cell_imgs)):\n",
    "        vmin, vmax = np.percentile(cell_imgs[i], q=qs)\n",
    "        rescaled_cell_imgs.append(exposure.rescale_intensity(cell_imgs[i], in_range=(vmin, vmax), \n",
    "                                                             out_range=out_range))\n",
    "\n",
    "    return rescaled_cell_imgs"
   ]
  },
  {
   "cell_type": "markdown",
   "metadata": {},
   "source": [
    "Let us inspect the effect of the intensity rescaling."
   ]
  },
  {
   "cell_type": "code",
   "execution_count": 264,
   "metadata": {},
   "outputs": [
    {
     "data": {
      "application/vnd.jupyter.widget-view+json": {
       "model_id": "1a0c00f2f701487e8f5bde3821c51a2e",
       "version_major": 2,
       "version_minor": 0
      },
      "text/plain": [
       "interactive(children=(IntSlider(value=20, description='plane', max=20), Output()), _dom_classes=('widget-inter…"
      ]
     },
     "metadata": {},
     "output_type": "display_data"
    },
    {
     "data": {
      "text/plain": [
       "<function __main__.explore_slices_2_samples.<locals>.display_slice(plane=34)>"
      ]
     },
     "execution_count": 264,
     "metadata": {},
     "output_type": "execute_result"
    }
   ],
   "source": [
    "rescaled_cells = rescale_intensities(filtered_cells)\n",
    "explore_slices_2_samples([filtered_cells[0], rescaled_cells[0]], cmap='seismic')"
   ]
  },
  {
   "cell_type": "markdown",
   "metadata": {},
   "source": [
    "---\n",
    "\n",
    "## 4. Chromatin structure detection\n",
    "\n",
    "We will now use the contrast enhanced images and try to identify heterochromatal and euchromatal structures. We know that heterochromatin is visible in the image space by regions of higher intensities as the more densely packed DNA reflects more light. Euchromatin on the opposite marks areas of loosely packed DNA, i.e. those areas in the image space for DAPI stained nuclei, where we see darker patterns.\n",
    "\n",
    "\n",
    "\n",
    "\n",
    "\n",
    "### 4.1. Thresholding\n",
    "A straight forward approach is simply applying a threshold to bin the image into background, heterochromatin and euchromatin areas.\n"
   ]
  },
  {
   "cell_type": "code",
   "execution_count": 265,
   "metadata": {},
   "outputs": [],
   "source": [
    "def get_nuclei_masks(cells):\n",
    "    cell_masks = []\n",
    "    for i in range(len(cells)):\n",
    "        thresh = filters.threshold_otsu(cells[i])\n",
    "        binary = cells[i]>thresh\n",
    "        binary = ndi.binary_fill_holes(binary)\n",
    "        cell_mask= []\n",
    "        for j in range(len(cells[i])):\n",
    "            cell_mask.append(morphology.convex_hull_image(binary[j]))\n",
    "        #binary = morphology.remove_small_holes(binary, area_threshold=300, connectivity=2)\n",
    "        cell_masks.append(np.array(cell_mask))\n",
    "    return cell_masks"
   ]
  },
  {
   "cell_type": "code",
   "execution_count": 266,
   "metadata": {},
   "outputs": [],
   "source": [
    "def color_3d_cells(cell_masks, cells):\n",
    "    colored_cells = []\n",
    "    for i in range(len(cell_masks)):\n",
    "        colored_cell = []\n",
    "        for j in range(len(cell_masks[i])):\n",
    "            colored_cell.append(color.label2rgb(cell_masks[i][j], cells[i][j], bg_label=0))\n",
    "        colored_cells.append(np.array(colored_cell))\n",
    "    return colored_cells"
   ]
  },
  {
   "cell_type": "code",
   "execution_count": 267,
   "metadata": {},
   "outputs": [
    {
     "name": "stderr",
     "output_type": "stream",
     "text": [
      "<ipython-input-265-315973bd801d>:9: UserWarning: Input image is entirely zero, no valid convex hull. Returning empty image\n",
      "  cell_mask.append(morphology.convex_hull_image(binary[j]))\n"
     ]
    }
   ],
   "source": [
    "cell_masks = get_nuclei_masks(healthy_cells)\n",
    "colored_cell_masks = color_3d_cells(cell_masks, rescaled_cells)"
   ]
  },
  {
   "cell_type": "code",
   "execution_count": 268,
   "metadata": {},
   "outputs": [
    {
     "data": {
      "application/vnd.jupyter.widget-view+json": {
       "model_id": "90e0cd72dbeb497187a861b4b8fbbc9a",
       "version_major": 2,
       "version_minor": 0
      },
      "text/plain": [
       "interactive(children=(IntSlider(value=20, description='plane', max=20), Output()), _dom_classes=('widget-inter…"
      ]
     },
     "metadata": {},
     "output_type": "display_data"
    },
    {
     "data": {
      "text/plain": [
       "<function __main__.explore_slices_2_samples.<locals>.display_slice(plane=34)>"
      ]
     },
     "execution_count": 268,
     "metadata": {},
     "output_type": "execute_result"
    }
   ],
   "source": [
    "explore_slices_2_samples(colored_cell_masks)"
   ]
  },
  {
   "cell_type": "code",
   "execution_count": 294,
   "metadata": {},
   "outputs": [],
   "source": [
    "def get_hc_ec_structure_maps_by_thresholding(cells, cell_masks, k=0.6):\n",
    "    structure_dicts = []\n",
    "    for i in range(len(cells)):\n",
    "        cell_img = copy.deepcopy(cells[i])\n",
    "        cell_img = filters.median(cell_img)\n",
    "        masked_cell = ma.masked_array(cell_img, ~cell_masks[i])\n",
    "        threshold = masked_cell.min() + k * (masked_cell.max() - masked_cell.min())\n",
    "        hc_mask = masked_cell > threshold\n",
    "        ec_mask = masked_cell <= threshold\n",
    "        structure_dict = {'cell_img':cells[i], 'masked_cell':masked_cell, 'hc_mask' : hc_mask, \n",
    "                          'ec_mask' : ec_mask}\n",
    "        structure_dicts.append(structure_dict)\n",
    "    return structure_dicts\n",
    "         "
   ]
  },
  {
   "cell_type": "code",
   "execution_count": 295,
   "metadata": {},
   "outputs": [],
   "source": [
    "structure_dicts = get_hc_ec_structure_maps_by_thresholding(rescaled_cells, cell_masks)"
   ]
  },
  {
   "cell_type": "code",
   "execution_count": 296,
   "metadata": {},
   "outputs": [
    {
     "data": {
      "application/vnd.jupyter.widget-view+json": {
       "model_id": "6102bc50e7c3446b8e27fd461c578beb",
       "version_major": 2,
       "version_minor": 0
      },
      "text/plain": [
       "interactive(children=(IntSlider(value=20, description='plane', max=20), Output()), _dom_classes=('widget-inter…"
      ]
     },
     "metadata": {},
     "output_type": "display_data"
    },
    {
     "data": {
      "text/plain": [
       "<function __main__.explore_slices_2_samples.<locals>.display_slice(plane=34)>"
      ]
     },
     "execution_count": 296,
     "metadata": {},
     "output_type": "execute_result"
    }
   ],
   "source": [
    "explore_slices_2_samples([structure_dicts[0]['masked_cell'], structure_dicts[0]['hc_mask']])"
   ]
  },
  {
   "cell_type": "code",
   "execution_count": 297,
   "metadata": {},
   "outputs": [],
   "source": [
    "def get_labeled_cells_for_hc_ec_structures(stucture_dicts):\n",
    "    labeled_cells = []\n",
    "    for i in range(len(structure_dicts)):\n",
    "        labeled_cell = np.zeros_like(structure_dicts[i]['cell_img'])\n",
    "        cell_mask = ~ma.getmask(structure_dicts[i]['masked_cell'])\n",
    "        hc_mask = np.array(structure_dicts[i]['hc_mask'])\n",
    "        labeled_cell[cell_mask]= 1\n",
    "        labeled_cell[hc_mask] = 2\n",
    "        labeled_cells.append(np.uint16(labeled_cell))\n",
    "    return labeled_cells\n",
    "    "
   ]
  },
  {
   "cell_type": "code",
   "execution_count": 298,
   "metadata": {},
   "outputs": [],
   "source": [
    "labeled_cells = get_labeled_cells_for_hc_ec_structures(structure_dicts)"
   ]
  },
  {
   "cell_type": "code",
   "execution_count": 299,
   "metadata": {},
   "outputs": [],
   "source": [
    "color_labeled_cells = color_3d_cells(labeled_cells, rescaled_cells)"
   ]
  },
  {
   "cell_type": "code",
   "execution_count": 300,
   "metadata": {},
   "outputs": [
    {
     "data": {
      "application/vnd.jupyter.widget-view+json": {
       "model_id": "c6f3285904d04769b31085bc38dec4c1",
       "version_major": 2,
       "version_minor": 0
      },
      "text/plain": [
       "interactive(children=(IntSlider(value=20, description='plane', max=20), Output()), _dom_classes=('widget-inter…"
      ]
     },
     "metadata": {},
     "output_type": "display_data"
    },
    {
     "data": {
      "text/plain": [
       "<function __main__.explore_slices_2_samples.<locals>.display_slice(plane=34)>"
      ]
     },
     "execution_count": 300,
     "metadata": {},
     "output_type": "execute_result"
    }
   ],
   "source": [
    "explore_slices_2_samples(color_labeled_cells)"
   ]
  },
  {
   "cell_type": "markdown",
   "metadata": {},
   "source": [
    "The above shows the result of the threshold-based segmentation of heterochromatin (blue) and euchormatin(red). Note that the segmentation does not distinguish between other potential structures that could cause the intensity differences and the segmentation of the cell is itself based on Otsu thresholding followed by a convex filling."
   ]
  },
  {
   "cell_type": "markdown",
   "metadata": {},
   "source": [
    "---\n",
    "\n",
    "### 4.2. Spot detection using UDWT\n",
    "To this end, we will apply an undecimated wavelet transform-based spot detection algorithm as proposed by [Olivo-Marin, 2002](https://www.sciencedirect.com/science/article/pii/S0031320301001273)."
   ]
  },
  {
   "cell_type": "code",
   "execution_count": null,
   "metadata": {},
   "outputs": [],
   "source": []
  }
 ],
 "metadata": {
  "kernelspec": {
   "display_name": "Python 3",
   "language": "python",
   "name": "python3"
  },
  "language_info": {
   "codemirror_mode": {
    "name": "ipython",
    "version": 3
   },
   "file_extension": ".py",
   "mimetype": "text/x-python",
   "name": "python",
   "nbconvert_exporter": "python",
   "pygments_lexer": "ipython3",
   "version": "3.8.5"
  }
 },
 "nbformat": 4,
 "nbformat_minor": 4
}
