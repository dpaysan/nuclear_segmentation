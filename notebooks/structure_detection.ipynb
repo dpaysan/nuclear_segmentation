{
 "cells": [
  {
   "cell_type": "markdown",
   "metadata": {},
   "source": [
    "# Structure detection\n",
    "\n",
    "\n",
    "This notebook serves as a sandbox for structure detection of 3D microscopy images.\n",
    "\n",
    "---"
   ]
  },
  {
   "cell_type": "markdown",
   "metadata": {},
   "source": [
    "## 0. Environmental setup"
   ]
  },
  {
   "cell_type": "code",
   "execution_count": 1,
   "metadata": {},
   "outputs": [],
   "source": [
    "import numpy as np\n",
    "import cv2\n",
    "import tifffile\n",
    "import matplotlib.pyplot as plt\n",
    "import sys\n",
    "import random\n",
    "from skimage import exposure, filters, feature, restoration, measure, morphology, color, segmentation\n",
    "from scipy import ndimage as ndi\n",
    "from numpy import ma\n",
    "import copy\n",
    "import morphsnakes as ms\n",
    "\n",
    "sys.path.append('..')\n",
    "\n",
    "from src.utils.io import get_file_list\n",
    "\n",
    "np.random.seed(1234)\n",
    "random.seed(1234)"
   ]
  },
  {
   "cell_type": "code",
   "execution_count": 2,
   "metadata": {},
   "outputs": [],
   "source": [
    "def show_plane(ax, plane, cmap=\"gray\", title=None):\n",
    "    ax.imshow(plane, cmap=cmap)\n",
    "    ax.axis(\"off\")\n",
    "\n",
    "    if title:\n",
    "        ax.set_title(title)\n",
    "\n",
    "        \n",
    "def explore_slices(data, cmap=\"gray\"):\n",
    "    from ipywidgets import interact\n",
    "    N = len(data)\n",
    "\n",
    "    @interact(plane=(0, N - 1))\n",
    "    def display_slice(plane=34):\n",
    "        fig, ax = plt.subplots(figsize=(20, 5))\n",
    "\n",
    "        show_plane(ax, data[plane], title=\"Plane {}\".format(plane), cmap=cmap)\n",
    "\n",
    "        plt.show()\n",
    "\n",
    "    return display_slice\n",
    "\n",
    "def explore_slices_2_samples(data, cmap=\"gray\"):\n",
    "    from ipywidgets import interact\n",
    "    N = len(data[0])\n",
    "\n",
    "    @interact(plane=(0, N - 1))\n",
    "    def display_slice(plane=34):\n",
    "        fig, ax = plt.subplots(figsize=(20, 5), nrows=1, ncols=2)\n",
    "\n",
    "        show_plane(ax[0], data[0][plane], title=\"Plane {}\".format(plane), cmap=cmap)\n",
    "        show_plane(ax[1], data[1][plane], title='Plane {}'.format(plane), cmap=cmap)\n",
    "get_chan_vese_based_labels\n",
    "        plt.show()\n",
    "\n",
    "    return display_slice\n"
   ]
  },
  {
   "cell_type": "code",
   "execution_count": 58,
   "metadata": {},
   "outputs": [],
   "source": [
    "def get_nuclei_masks(cells, smoothing=1, fill_holes_layer_wise=True):\n",
    "    cell_masks = []\n",
    "    for i in range(len(cells)):\n",
    "        cell_mask = segmentation.morphological_chan_vese(cells[i], smoothing=smoothing, iterations=500, \n",
    "                                                         init_level_set='circle')\n",
    "        cell_mask = ndi.binary_fill_holes(cell_mask, structure = np.ones((3,3,3)))\n",
    "        if fill_holes_layer_wise:\n",
    "            for j in range(len(cell_mask)):\n",
    "                cell_mask[j] = ndi.binary_fill_holes(cell_mask[j])\n",
    "        cell_masks.append(np.array(cell_mask))\n",
    "    return cell_masks"
   ]
  },
  {
   "cell_type": "code",
   "execution_count": 4,
   "metadata": {},
   "outputs": [],
   "source": [
    "def remove_noise_layers(cells, masks):\n",
    "    masked_cells = []\n",
    "    for i in range(len(cells)):\n",
    "        masked_cell = copy.deepcopy(cells[i])\n",
    "        for j in range(len(cell_masks[i])):\n",
    "            if not cell_masks[i][j].astype(bool).any():\n",
    "                masked_cell[j] = np.zeros_like(masked_cell[j])\n",
    "        masked_cells.append(masked_cell)\n",
    "    return masked_cells"
   ]
  },
  {
   "cell_type": "code",
   "execution_count": 5,
   "metadata": {},
   "outputs": [],
   "source": [
    "def denoise_cells_bilateral(cells, sigma=15, median_filter_size=0):\n",
    "    denoised_cells = []\n",
    "    for i in range(len(cells)):\n",
    "        denoised_cell = []\n",
    "        for j in range(len(cells[i])):\n",
    "            denoised_cell.append(restoration.denoise_bilateral(cells[i][j], sigma_spatial=sigma, \n",
    "                                                               multichannel=False))\n",
    "        if median_filter_size>0:\n",
    "            denoised_cell = ndi.median_filter(np.array(denoised_cell), median_filter_size)\n",
    "        denoised_cells.append(np.array(denoised_cell))\n",
    "    return denoised_cells"
   ]
  },
  {
   "cell_type": "code",
   "execution_count": 6,
   "metadata": {},
   "outputs": [],
   "source": [
    "def filter_noise_layers(cells, sigma=2):\n",
    "    filtered_cells = []\n",
    "    for i in range(len(cells)):\n",
    "        cell= []\n",
    "        for j in range(len(cells[i])):\n",
    "            edges = feature.canny(cells[i][j], sigma)\n",
    "            if np.any(edges):\n",
    "                cell.append(cells[i][j])\n",
    "            else:\n",
    "                cell.append(np.zeros(cells[i][j].shape))\n",
    "        filtered_cells.append(np.array(cell))\n",
    "    return filtered_cells"
   ]
  },
  {
   "cell_type": "code",
   "execution_count": 7,
   "metadata": {},
   "outputs": [],
   "source": [
    "def rescale_intensities(cell_imgs, qs=None, out_range=None):\n",
    "    if qs is None:\n",
    "        qs=[0.5, 99.5]\n",
    "    if out_range is None:\n",
    "        out_range = np.float32\n",
    "    rescaled_cell_imgs = []\n",
    "    \n",
    "    for i in range(len(cell_imgs)):\n",
    "        vmin, vmax = np.percentile(cell_imgs[i], q=qs)\n",
    "        rescaled_cell_imgs.append(exposure.rescale_intensity(cell_imgs[i], in_range=(vmin, vmax), \n",
    "                                                             out_range=out_range))\n",
    "\n",
    "    return rescaled_cell_imgs"
   ]
  },
  {
   "cell_type": "code",
   "execution_count": 8,
   "metadata": {},
   "outputs": [],
   "source": [
    "def color_3d_cells(cell_masks, cells):\n",
    "    colored_cells = []\n",
    "    for i in range(len(cell_masks)):\n",
    "        cell_mask = cell_masks[i]\n",
    "        cell_mask = cell_mask.astype(int)\n",
    "        cell = cells[i]\n",
    "        cell = np.uint8(cell * 255/cell.max())\n",
    "        colored_cell = []\n",
    "        for j in range(len(cell_mask)):\n",
    "            colored_cell.append(color.label2rgb(cell_mask[j], cell[j], bg_label=0))\n",
    "        colored_cells.append(np.array(colored_cell))\n",
    "    return colored_cells"
   ]
  },
  {
   "cell_type": "code",
   "execution_count": 9,
   "metadata": {},
   "outputs": [],
   "source": [
    "def get_hc_ec_structure_maps_by_thresholding(cells, cell_masks, k=0.6):\n",
    "    structure_dicts = []\n",
    "    for i in range(len(cells)):\n",
    "        cell_img = copy.deepcopy(cells[i])\n",
    "        #cell_img = filters.median(cell_img)\n",
    "        masked_cell = ma.masked_array(cell_img, ~cell_masks[i])\n",
    "        threshold = masked_cell.min() + k * (masked_cell.max() - masked_cell.min())\n",
    "        hc_mask = masked_cell > threshold\n",
    "        ec_mask = masked_cell <= threshold\n",
    "        structure_dict = {'cell_img':cells[i], 'masked_cell':masked_cell, 'hc_mask' : hc_mask, \n",
    "                          'ec_mask' : ec_mask}\n",
    "        structure_dicts.append(structure_dict)\n",
    "    return structure_dicts"
   ]
  },
  {
   "cell_type": "code",
   "execution_count": 10,
   "metadata": {},
   "outputs": [],
   "source": [
    "def get_labeled_cells_for_hc_ec_structures(stucture_dicts):\n",
    "    labeled_cells = []\n",
    "    for i in range(len(structure_dicts)):\n",
    "        labeled_cell = np.zeros_like(structure_dicts[i]['cell_img'])\n",
    "        cell_mask = ~ma.getmask(structure_dicts[i]['masked_cell'])\n",
    "        hc_mask = np.array(structure_dicts[i]['hc_mask'])\n",
    "        labeled_cell[cell_mask]= 1\n",
    "        labeled_cell[hc_mask] = 2\n",
    "        labeled_cells.append(np.uint16(labeled_cell))\n",
    "    return labeled_cells"
   ]
  },
  {
   "cell_type": "markdown",
   "metadata": {},
   "source": [
    "---\n",
    "## 1. Read in data"
   ]
  },
  {
   "cell_type": "code",
   "execution_count": 11,
   "metadata": {},
   "outputs": [],
   "source": [
    "root_dir = '../data/tcell_project/filtered/selected_slices_ar_08_area25_50_16bit'\n",
    "file_list = get_file_list(root_dir)\n",
    "\n",
    "healthy_cell_ids = list(range(20))\n",
    "healthy_cells = []\n",
    "\n",
    "for i in range(len(healthy_cell_ids)):\n",
    "    healthy_cells.append(np.squeeze(tifffile.imread(file_list[healthy_cell_ids[i]])))"
   ]
  },
  {
   "cell_type": "code",
   "execution_count": 12,
   "metadata": {},
   "outputs": [
    {
     "data": {
      "application/vnd.jupyter.widget-view+json": {
       "model_id": "f4bc50b9782a42efa986f065ab3f3e30",
       "version_major": 2,
       "version_minor": 0
      },
      "text/plain": [
       "interactive(children=(IntSlider(value=20, description='plane', max=20), Output()), _dom_classes=('widget-inter…"
      ]
     },
     "metadata": {},
     "output_type": "display_data"
    },
    {
     "data": {
      "text/plain": [
       "<function __main__.explore_slices_2_samples.<locals>.display_slice(plane=34)>"
      ]
     },
     "execution_count": 12,
     "metadata": {},
     "output_type": "execute_result"
    }
   ],
   "source": [
    "explore_slices_2_samples(healthy_cells[:2])"
   ]
  },
  {
   "cell_type": "markdown",
   "metadata": {},
   "source": [
    "---\n",
    "\n",
    "## 2. Noise reduction\n",
    "\n",
    "The microscopy images are subject to different types of noise including Gaussian and salt-pepper noise. To denoise the images different techniques can be applied. Importantly, the SNR is especially high for very low and high levels of depth of the image as defined by the PSF function of confocal microscopies.\n",
    "\n",
    "However, before we will remove any signal from those layers that show no clear structure of an object (the nucleus). To this end, we will obtain the nuclear masks for each image using the Chan-Vese algorithm, and set any value outside the mask manually to zero."
   ]
  },
  {
   "cell_type": "code",
   "execution_count": 60,
   "metadata": {},
   "outputs": [],
   "source": [
    "cell_masks = get_nuclei_masks(healthy_cells, smoothing=1)"
   ]
  },
  {
   "cell_type": "code",
   "execution_count": 62,
   "metadata": {},
   "outputs": [
    {
     "data": {
      "application/vnd.jupyter.widget-view+json": {
       "model_id": "6604dac6d29642d1b45fcdf3e0488268",
       "version_major": 2,
       "version_minor": 0
      },
      "text/plain": [
       "interactive(children=(IntSlider(value=20, description='plane', max=20), Output()), _dom_classes=('widget-inter…"
      ]
     },
     "metadata": {},
     "output_type": "display_data"
    },
    {
     "data": {
      "text/plain": [
       "<function __main__.explore_slices_2_samples.<locals>.display_slice(plane=34)>"
      ]
     },
     "execution_count": 62,
     "metadata": {},
     "output_type": "execute_result"
    }
   ],
   "source": [
    "explore_slices_2_samples([cell_masks[5], cell_masks[6]])"
   ]
  },
  {
   "cell_type": "code",
   "execution_count": 63,
   "metadata": {},
   "outputs": [],
   "source": [
    "masked_cells = remove_noise_layers(healthy_cells, cell_masks)"
   ]
  },
  {
   "cell_type": "code",
   "execution_count": 64,
   "metadata": {},
   "outputs": [],
   "source": [
    "filtered_cells = denoise_cells_bilateral(masked_cells, median_filter_size=0)"
   ]
  },
  {
   "cell_type": "code",
   "execution_count": 65,
   "metadata": {},
   "outputs": [
    {
     "data": {
      "application/vnd.jupyter.widget-view+json": {
       "model_id": "ff88a52906134c49a8b7dfdff8cb723b",
       "version_major": 2,
       "version_minor": 0
      },
      "text/plain": [
       "interactive(children=(IntSlider(value=20, description='plane', max=20), Output()), _dom_classes=('widget-inter…"
      ]
     },
     "metadata": {},
     "output_type": "display_data"
    },
    {
     "data": {
      "text/plain": [
       "<function __main__.explore_slices_2_samples.<locals>.display_slice(plane=34)>"
      ]
     },
     "execution_count": 65,
     "metadata": {},
     "output_type": "execute_result"
    }
   ],
   "source": [
    "explore_slices_2_samples([healthy_cells[2], filtered_cells[2]], cmap='seismic')"
   ]
  },
  {
   "cell_type": "markdown",
   "metadata": {},
   "source": [
    "While the results look promising, we still face the issue that if there is not object in the picture (i.e. for the first couple and the last layers typically) the SNR << 1, which means we basically look at random noise. A simple method would be to remove the first 2 and final 2 layers, respectively segment the individual images additionally to find the borders of the nuclei in the z-dimension.\n",
    "\n",
    "The latter approach seems to be more sophisticated and promising is however at the time being subject to future work."
   ]
  },
  {
   "cell_type": "markdown",
   "metadata": {},
   "source": [
    "---\n",
    "\n",
    "## 3. Exposure correction on nuclei mask\n",
    "\n",
    "After reading in the data, we will adjust the contrasts of the images to facilitate the consecutive structure detection. "
   ]
  },
  {
   "cell_type": "markdown",
   "metadata": {},
   "source": [
    "Let us inspect the effect of the intensity rescaling."
   ]
  },
  {
   "cell_type": "code",
   "execution_count": 66,
   "metadata": {},
   "outputs": [
    {
     "data": {
      "application/vnd.jupyter.widget-view+json": {
       "model_id": "8a91604f322b474ca57fa07e5a89546e",
       "version_major": 2,
       "version_minor": 0
      },
      "text/plain": [
       "interactive(children=(IntSlider(value=20, description='plane', max=20), Output()), _dom_classes=('widget-inter…"
      ]
     },
     "metadata": {},
     "output_type": "display_data"
    },
    {
     "data": {
      "text/plain": [
       "<function __main__.explore_slices_2_samples.<locals>.display_slice(plane=34)>"
      ]
     },
     "execution_count": 66,
     "metadata": {},
     "output_type": "execute_result"
    }
   ],
   "source": [
    "rescaled_cells = rescale_intensities(filtered_cells)\n",
    "explore_slices_2_samples([masked_cells[0], rescaled_cells[0]], cmap='seismic')"
   ]
  },
  {
   "cell_type": "markdown",
   "metadata": {},
   "source": [
    "---\n",
    "\n",
    "## 4. Chromatin structure detection\n",
    "\n",
    "We will now use the contrast enhanced images and try to identify heterochromatal and euchromatal structures. We know that heterochromatin is visible in the image space by regions of higher intensities as the more densely packed DNA reflects more light. Euchromatin on the opposite marks areas of loosely packed DNA, i.e. those areas in the image space for DAPI stained nuclei, where we see darker patterns.\n",
    "\n",
    "\n",
    "\n",
    "\n",
    "\n",
    "### 4.1. Thresholding\n",
    "A straight forward approach is simply applying a threshold to bin the image into background, heterochromatin and euchromatin areas.\n"
   ]
  },
  {
   "cell_type": "code",
   "execution_count": 67,
   "metadata": {},
   "outputs": [],
   "source": [
    "colored_cell_masks = color_3d_cells(cell_masks, rescaled_cells)"
   ]
  },
  {
   "cell_type": "code",
   "execution_count": 68,
   "metadata": {},
   "outputs": [
    {
     "data": {
      "application/vnd.jupyter.widget-view+json": {
       "model_id": "d321c7fe0a684e35a0e041083f0a2d4b",
       "version_major": 2,
       "version_minor": 0
      },
      "text/plain": [
       "interactive(children=(IntSlider(value=20, description='plane', max=20), Output()), _dom_classes=('widget-inter…"
      ]
     },
     "metadata": {},
     "output_type": "display_data"
    },
    {
     "data": {
      "text/plain": [
       "<function __main__.explore_slices_2_samples.<locals>.display_slice(plane=34)>"
      ]
     },
     "execution_count": 68,
     "metadata": {},
     "output_type": "execute_result"
    }
   ],
   "source": [
    "explore_slices_2_samples(colored_cell_masks)"
   ]
  },
  {
   "cell_type": "code",
   "execution_count": 69,
   "metadata": {},
   "outputs": [],
   "source": [
    "structure_dicts = get_hc_ec_structure_maps_by_thresholding(rescaled_cells, cell_masks)"
   ]
  },
  {
   "cell_type": "code",
   "execution_count": 70,
   "metadata": {},
   "outputs": [
    {
     "data": {
      "application/vnd.jupyter.widget-view+json": {
       "model_id": "78be8f2314204b7f8eb3a02c3dbf3ec3",
       "version_major": 2,
       "version_minor": 0
      },
      "text/plain": [
       "interactive(children=(IntSlider(value=20, description='plane', max=20), Output()), _dom_classes=('widget-inter…"
      ]
     },
     "metadata": {},
     "output_type": "display_data"
    },
    {
     "data": {
      "text/plain": [
       "<function __main__.explore_slices_2_samples.<locals>.display_slice(plane=34)>"
      ]
     },
     "execution_count": 70,
     "metadata": {},
     "output_type": "execute_result"
    }
   ],
   "source": [
    "explore_slices_2_samples([structure_dicts[0]['masked_cell'], structure_dicts[0]['hc_mask']])"
   ]
  },
  {
   "cell_type": "code",
   "execution_count": 71,
   "metadata": {},
   "outputs": [],
   "source": [
    "labeled_cells = get_labeled_cells_for_hc_ec_structures(structure_dicts)"
   ]
  },
  {
   "cell_type": "code",
   "execution_count": 72,
   "metadata": {},
   "outputs": [],
   "source": [
    "color_labeled_cells = color_3d_cells(labeled_cells, rescaled_cells)"
   ]
  },
  {
   "cell_type": "code",
   "execution_count": 73,
   "metadata": {},
   "outputs": [
    {
     "data": {
      "application/vnd.jupyter.widget-view+json": {
       "model_id": "6783bdf244c04d809d4f223add678680",
       "version_major": 2,
       "version_minor": 0
      },
      "text/plain": [
       "interactive(children=(IntSlider(value=20, description='plane', max=20), Output()), _dom_classes=('widget-inter…"
      ]
     },
     "metadata": {},
     "output_type": "display_data"
    },
    {
     "data": {
      "text/plain": [
       "<function __main__.explore_slices_2_samples.<locals>.display_slice(plane=34)>"
      ]
     },
     "execution_count": 73,
     "metadata": {},
     "output_type": "execute_result"
    }
   ],
   "source": [
    "explore_slices_2_samples([color_labeled_cells[5], color_labeled_cells[8]])"
   ]
  },
  {
   "cell_type": "markdown",
   "metadata": {},
   "source": [
    "The above shows the result of the threshold-based segmentation of heterochromatin (blue) and euchormatin(red). Note that the segmentation does not distinguish between other potential structures that could cause the intensity differences."
   ]
  },
  {
   "cell_type": "markdown",
   "metadata": {},
   "source": [
    "---\n",
    "\n",
    "## 5. Chromosome border detection\n",
    "\n",
    "Going one step further we would like to explore if it is possible to derive borders of chromosomes from the DAPI images for the individual cells. While labeled images can be obtained experimentally using FISH, we here focus on approaches that only use the segmented nuclei DAPI images. We exploit the fact that, we now that more transcription happens along the overlap of chromosomes in space and in the image this will be shown as areas of lower intensity. The idea is that using the images, we might find tube-like objects that could represent the centromeres of a chromosome. If we can follow the direction of the surface, we might be able to associate areas of lower intensity to potential overlaps of chromosomes.\n",
    "\n",
    "As a first step however, we aim to segment the intranuclear structure into different segments. We are particurly interested in the heterochromatin structures. After segmenting those, we can try to analyze the individual detected heterochromatin formations and see if those form what could be centromeres or telomeres of some chromosomes.\n",
    "\n",
    "However, it is important that the quality of the images (with respect to the resolution and the staining) prohibits any sophisticated assessment of how well we are doing. We lack both ground truth information about the position of certain chromosomes in 3D and and images that have a higher SNR."
   ]
  },
  {
   "cell_type": "markdown",
   "metadata": {},
   "source": [
    "#### Nuclei segmentation"
   ]
  },
  {
   "cell_type": "code",
   "execution_count": 76,
   "metadata": {},
   "outputs": [],
   "source": [
    "import visvis as vv\n",
    "from skimage import util\n",
    "verts, faces, normals, values = measure.marching_cubes(rescaled_cells[0], allow_degenerate=False)\n",
    "vv.mesh(np.fliplr(verts), faces, normals, values)\n",
    "vv.use().Run()"
   ]
  },
  {
   "cell_type": "markdown",
   "metadata": {},
   "source": [
    "#### Euchromatin surface structures"
   ]
  },
  {
   "cell_type": "code",
   "execution_count": null,
   "metadata": {},
   "outputs": [],
   "source": []
  }
 ],
 "metadata": {
  "kernelspec": {
   "display_name": "Python 3",
   "language": "python",
   "name": "python3"
  },
  "language_info": {
   "codemirror_mode": {
    "name": "ipython",
    "version": 3
   },
   "file_extension": ".py",
   "mimetype": "text/x-python",
   "name": "python",
   "nbconvert_exporter": "python",
   "pygments_lexer": "ipython3",
   "version": "3.8.5"
  }
 },
 "nbformat": 4,
 "nbformat_minor": 4
}
